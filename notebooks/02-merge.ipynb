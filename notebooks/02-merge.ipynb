{
 "cells": [
  {
   "cell_type": "code",
   "execution_count": 1,
   "metadata": {},
   "outputs": [
    {
     "data": {
      "text/plain": [
       "1"
      ]
     },
     "execution_count": 1,
     "metadata": {},
     "output_type": "execute_result"
    }
   ],
   "source": [
    "1"
   ]
  },
  {
   "cell_type": "code",
   "execution_count": 2,
   "metadata": {},
   "outputs": [],
   "source": [
    "from scid.imports import *"
   ]
  },
  {
   "cell_type": "code",
   "execution_count": 6,
   "metadata": {},
   "outputs": [],
   "source": [
    "import csv\n",
    "from scid.iters import parse_vector, get_sku, browsing_edb"
   ]
  },
  {
   "cell_type": "code",
   "execution_count": 7,
   "metadata": {},
   "outputs": [],
   "source": [
    "def iter_enriched(censor_sessions=True):\n",
    "    with open(fs.join(sigir_data_dir, 'search_train.csv')) as f:\n",
    "        search_reader = csv.DictReader(f)\n",
    "        for doc in search_reader:\n",
    "            if not doc['clicked_skus_hash']: continue\n",
    "            if not doc['product_skus_hash']: continue\n",
    "            \n",
    "            doc['query_vector'] = parse_vector(doc['query_vector'])\n",
    "            \n",
    "            doc = dict(doc)\n",
    "            doc['clicked_skus_hash'] = json.loads(doc['clicked_skus_hash'].replace(\"'\", '\"'))\n",
    "            doc['product_skus_hash'] = json.loads(doc['product_skus_hash'].replace(\"'\", '\"'))\n",
    "\n",
    "            doc['clicked_skus'] = [get_sku(k) for k in doc['clicked_skus_hash']]\n",
    "            doc['product_skus'] = [get_sku(k) for k in doc['product_skus_hash']]\n",
    "\n",
    "            doc['server_timestamp_epoch_ms'] = int(doc['server_timestamp_epoch_ms'])\n",
    "            session = browsing_edb.get(doc['session_id_hash']) \n",
    "            if session is None: continue\n",
    "            for e in session:\n",
    "                e['server_timestamp_epoch_ms'] = int(e['server_timestamp_epoch_ms'])\n",
    "            \n",
    "            clicked = set(doc['clicked_skus_hash'])\n",
    "            session.sort(key=lambda x: x['server_timestamp_epoch_ms'])\n",
    "\n",
    "\n",
    "            trimmed_session = []\n",
    "            for e in session:\n",
    "                if e['product_sku_hash'] == '': continue\n",
    "                if censor_sessions:\n",
    "                    if e['server_timestamp_epoch_ms'] >= doc['server_timestamp_epoch_ms']: break\n",
    "                    if e['product_sku_hash'] in clicked: break\n",
    "                trimmed_session.append(e)\n",
    "\n",
    "            doc['session'] = trimmed_session\n",
    "            for e in doc['session']:\n",
    "                prod = get_sku(e['product_sku_hash'])\n",
    "                e.update(prod)\n",
    "            \n",
    "            doc['session'] = [\n",
    "                e for e in doc['session'] \n",
    "                if  e['description_vector'] is not None\n",
    "                and e['price_bucket'] is not None\n",
    "#                 and e['image_vector'] is not None \n",
    "            ]\n",
    "            if len(doc['session']) == 0: continue\n",
    "            \n",
    "            yield doc"
   ]
  },
  {
   "cell_type": "code",
   "execution_count": null,
   "metadata": {},
   "outputs": [
    {
     "data": {
      "application/vnd.jupyter.widget-view+json": {
       "model_id": "3bf5371d85744c478b0d6859eec1e219",
       "version_major": 2,
       "version_minor": 0
      },
      "text/plain": [
       "0it [00:00, ?it/s]"
      ]
     },
     "metadata": {},
     "output_type": "display_data"
    }
   ],
   "source": [
    "write_jl(tqdm(iter_enriched()), fs.join(sigir_data_dir, 'joined_data.jl.gz'))"
   ]
  },
  {
   "cell_type": "code",
   "execution_count": null,
   "metadata": {},
   "outputs": [],
   "source": [
    "write_jl(progress(iter_enriched(censor_sessions=False)), fs.join(path, 'joined_data_uncensored.jl.gz'))"
   ]
  },
  {
   "cell_type": "code",
   "execution_count": 7,
   "metadata": {},
   "outputs": [
    {
     "name": "stdout",
     "output_type": "stream",
     "text": [
      "2022-08-12 19:33:14 pid 12467 | starting to iterate, updating every 1 seconds\n",
      "2022-08-12 19:33:15 pid 12467 | 1215, speed: 929.85 it/s, elapsed 1.31 seconds\n",
      "2022-08-12 19:33:16 pid 12467 | 2147, speed: 930.55 it/s, elapsed 2.31 seconds\n",
      "2022-08-12 19:33:17 pid 12467 | 2992, speed: 904.57 it/s, elapsed 3.31 seconds\n",
      "2022-08-12 19:33:18 pid 12467 | 3828, speed: 888.41 it/s, elapsed 4.31 seconds\n",
      "2022-08-12 19:33:19 pid 12467 | 4652, speed: 876.04 it/s, elapsed 5.31 seconds\n",
      "2022-08-12 19:33:20 pid 12467 | 5448, speed: 863.34 it/s, elapsed 6.31 seconds\n",
      "2022-08-12 19:33:21 pid 12467 | 6307, speed: 862.65 it/s, elapsed 7.31 seconds\n",
      "2022-08-12 19:33:22 pid 12467 | 7309, speed: 879.33 it/s, elapsed 8.31 seconds\n",
      "2022-08-12 19:33:23 pid 12467 | 8297, speed: 890.87 it/s, elapsed 9.31 seconds\n",
      "2022-08-12 19:33:24 pid 12467 | print interval is now 5s\n",
      "2022-08-12 19:33:28 pid 12467 | 13883, speed: 969.87 it/s, elapsed 14.31 seconds\n",
      "2022-08-12 19:33:33 pid 12467 | 19507, speed: 1009.93 it/s, elapsed 19.32 seconds\n",
      "2022-08-12 19:33:38 pid 12467 | 24740, speed: 1017.43 it/s, elapsed 24.32 seconds\n",
      "2022-08-12 19:33:43 pid 12467 | 30390, speed: 1036.62 it/s, elapsed 29.32 seconds\n",
      "2022-08-12 19:33:44 pid 12467 | print interval is now 30s\n",
      "2022-08-12 19:34:13 pid 12467 | 63459, speed: 1069.83 it/s, elapsed 59.32 seconds\n",
      "2022-08-12 19:34:20 pid 12467 | 70679, speed: 1071.16 it/s, elapsed 1.10 minutes\n",
      "2022-08-12 19:34:20 pid 12467 | finished . Total time: 1.10 minutes\n"
     ]
    }
   ],
   "source": [
    "ranks = []\n",
    "for doc in progress(iter_jl(fs.join(path, 'joined_data.jl.gz'), limit=100_000)):\n",
    "    clicked_ids = doc['clicked_skus_hash']\n",
    "    printed_ids = doc['product_skus_hash']\n",
    "    indices = [printed_ids.index(e) for e in clicked_ids if e in printed_ids]\n",
    "    if not indices: continue\n",
    "    r = min(indices)\n",
    "    ranks.append(r)"
   ]
  },
  {
   "cell_type": "code",
   "execution_count": 41,
   "metadata": {},
   "outputs": [
    {
     "data": {
      "text/plain": [
       "<AxesSubplot:ylabel='Count'>"
      ]
     },
     "execution_count": 41,
     "metadata": {},
     "output_type": "execute_result"
    },
    {
     "data": {
      "image/png": "[encoded data removed]",
      "text/plain": [
       "<Figure size 432x288 with 1 Axes>"
      ]
     },
     "metadata": {
      "needs_background": "light"
     },
     "output_type": "display_data"
    }
   ],
   "source": [
    "import seaborn as sns\n",
    "s = pd.Series(ranks)\n",
    "\n",
    "mrrs = []\n",
    "for i in range(200):\n",
    "    mrrs.append(\n",
    "        (1.0/(1+s.sample(frac=1, replace=True))).mean()\n",
    "    )\n",
    "    \n",
    "sns.histplot(mrrs, kde=True)"
   ]
  }
 ],
 "metadata": {
  "kernelspec": {
   "display_name": "Python 3 (ipykernel)",
   "language": "python",
   "name": "python3"
  },
  "language_info": {
   "codemirror_mode": {
    "name": "ipython",
    "version": 3
   },
   "file_extension": ".py",
   "mimetype": "text/x-python",
   "name": "python",
   "nbconvert_exporter": "python",
   "pygments_lexer": "ipython3",
   "version": "3.7.4"
  }
 },
 "nbformat": 4,
 "nbformat_minor": 4
}
