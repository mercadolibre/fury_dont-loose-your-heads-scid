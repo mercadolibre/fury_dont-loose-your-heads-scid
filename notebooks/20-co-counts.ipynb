{
 "cells": [
  {
   "cell_type": "code",
   "execution_count": 1,
   "id": "301490f6",
   "metadata": {},
   "outputs": [
    {
     "name": "stdout",
     "output_type": "stream",
     "text": [
      "Already up to date.\n"
     ]
    }
   ],
   "source": [
    "!git pull"
   ]
  },
  {
   "cell_type": "code",
   "execution_count": 2,
   "id": "481469a2",
   "metadata": {},
   "outputs": [
    {
     "data": {
      "text/plain": [
       "1"
      ]
     },
     "execution_count": 2,
     "metadata": {},
     "output_type": "execute_result"
    }
   ],
   "source": [
    "1"
   ]
  },
  {
   "cell_type": "code",
   "execution_count": null,
   "id": "d18f3ebf",
   "metadata": {},
   "outputs": [],
   "source": [
    "from core.imports import *\n",
    "\n",
    "from core.sigir import utils, search\n",
    "from sklearn.pipeline import make_union, make_pipeline\n",
    "\n",
    "from sklearn.linear_model import LogisticRegression\n",
    "from sklearn.preprocessing import StandardScaler\n",
    "from core.sigir.descriptor import UserNavDescriptor, PoolingStrategy, CIDDescriptor\n",
    "from lightgbm import LGBMClassifier\n",
    "from core.sigir.model import RollingAverageMultiTaskLanguageModel\n",
    "from datetime import datetime\n",
    "\n",
    "import next_item_prediction as nip\n",
    "\n",
    "def get_cocount(it, trigger_key, any_order=False, just_next=False, include_last_evt=False):\n",
    "    cnt = defaultdict(Counter)\n",
    "    used_sessions = 0\n",
    "    for session in it:\n",
    "        if not session: continue\n",
    "        used_sessions+=1\n",
    "        if just_next: assert not any_order\n",
    "        \n",
    "        last_ph_pos = None\n",
    "        if not include_last_evt:\n",
    "            for i in range(len(session) - 1, -1, -1):\n",
    "                if session[i]['product_sku_hash']: \n",
    "                    last_ph_pos = i\n",
    "                    break\n",
    "            \n",
    "            # puro pageviews\n",
    "            if last_ph_pos is None: continue\n",
    "\n",
    "        for i, e in enumerate(session):\n",
    "            if not e.get(trigger_key): continue\n",
    "            for j in range(0 if any_order else i+1, len(session)):\n",
    "                if not session[j]['product_sku_hash']: continue\n",
    "                if not include_last_evt and j == last_ph_pos: break\n",
    "\n",
    "                cnt[e[trigger_key]][session[j]['product_sku_hash']] += 1\n",
    "\n",
    "                if just_next: break\n",
    "    return cnt\n",
    "\n",
    "from sklearn.model_selection import ParameterGrid\n",
    "\n",
    "n_stories = None\n",
    "\n",
    "grid = ParameterGrid(dict(\n",
    "    split=['train', 'test', 'train_test'],\n",
    "    trigger_key=['product_sku_hash', 'hashed_url'],\n",
    "    any_order=[True, False],\n",
    "    just_next=[True, False],\n",
    "    include_last_evt=[True, False]\n",
    "))\n",
    "\n",
    "def valid_cfg(cfg):\n",
    "    return not cfg['just_next'] or not cfg['any_order']\n",
    "\n",
    "grid = list(filter(valid_cfg, grid))\n",
    "\n",
    "co_counts_path = fs.ensure_exists(f'co_counts/{n_stories}')\n",
    "\n",
    "def get_cache_fname(config):\n",
    "    return fs.join(\n",
    "        co_counts_path, \n",
    "        '{split}_{trigger_key}'.format(**config) + \n",
    "        ('_any_order' if config['any_order'] else '') + \n",
    "        ('_just_next' if config['just_next'] else '') + \n",
    "        ('_inc_last_evt' if config['include_last_evt'] else '') + \n",
    "        '.pkl'\n",
    "    )\n",
    "\n",
    "\n",
    "from itertools import chain\n",
    "\n",
    "for config in progress(grid, dyn_pi=False):\n",
    "    config['n_stories'] = n_stories\n",
    "    cache_fname = get_cache_fname(config)\n",
    "    if fs.exists(cache_fname): continue\n",
    "        \n",
    "    if config['split'] == 'train_test':\n",
    "        data = chain(\n",
    "            nip.get_split_iter('train', n_stories=n_stories//2 if n_stories else None),\n",
    "            nip.get_split_iter('test', n_stories=n_stories//2 if n_stories else None)\n",
    "        )\n",
    "    else:\n",
    "        data = nip.get_split_iter(config['split'], n_stories=n_stories if n_stories else None)\n",
    "\n",
    "    co_counts = get_cocount(\n",
    "        data, config['trigger_key'], any_order=config['any_order'], \n",
    "        just_next=config['just_next'], include_last_evt=config['include_last_evt']\n",
    "    )\n",
    "    \n",
    "    with open(cache_fname, 'wb') as f:\n",
    "        pkl.dump(dict(config=config, co_counts=co_counts), f, pkl.HIGHEST_PROTOCOL)"
   ]
  },
  {
   "cell_type": "code",
   "execution_count": 52,
   "id": "af5404cf",
   "metadata": {},
   "outputs": [
    {
     "data": {
      "text/plain": [
       "'co_counts/10000/train_product_sku_hash_any_order_inc_last_evt.pkl'"
      ]
     },
     "execution_count": 52,
     "metadata": {},
     "output_type": "execute_result"
    }
   ],
   "source": [
    "cache_fname"
   ]
  },
  {
   "cell_type": "code",
   "execution_count": null,
   "id": "69223c73",
   "metadata": {},
   "outputs": [],
   "source": []
  },
  {
   "cell_type": "code",
   "execution_count": 11,
   "id": "623a3686",
   "metadata": {},
   "outputs": [
    {
     "data": {
      "application/vnd.jupyter.widget-view+json": {
       "model_id": "429b9f0beeb849869285161e199475e0",
       "version_major": 2,
       "version_minor": 0
      },
      "text/plain": [
       "0it [00:00, ?it/s]"
      ]
     },
     "metadata": {},
     "output_type": "display_data"
    }
   ],
   "source": [
    "train_data = nip.get_split_iter('train', n_stories=100_000, progress_fn=tqdm)\n",
    "train_ph2ph = get_ph2ph(train_data)"
   ]
  },
  {
   "cell_type": "code",
   "execution_count": null,
   "id": "17d69cf3",
   "metadata": {},
   "outputs": [],
   "source": [
    "test_data = nip.get_split_iter('test', n_stories=None, progress_fn=tqdm)\n",
    "test_ph2ph = get_ph2ph(test_data)"
   ]
  },
  {
   "cell_type": "code",
   "execution_count": null,
   "id": "d973b71d",
   "metadata": {},
   "outputs": [],
   "source": [
    "eval_data = nip.get_split_iter('eval', n_stories=None, progress_fn=tqdm)\n",
    "eval_ph2ph = get_ph2ph(eval_data)"
   ]
  },
  {
   "cell_type": "code",
   "execution_count": null,
   "id": "64c03efa",
   "metadata": {},
   "outputs": [],
   "source": [
    "train_data = nip.get_split_iter('train', n_stories=None, progress_fn=tqdm)\n",
    "train_ph2ph = get_ph2ph(train_data)"
   ]
  },
  {
   "cell_type": "code",
   "execution_count": 36,
   "id": "85c569e6",
   "metadata": {},
   "outputs": [],
   "source": [
    "with open('candidates.pkl', 'wb') as f:\n",
    "    pkl.dump(cnt, f, pkl.HIGHEST_PROTOCOL)"
   ]
  },
  {
   "cell_type": "code",
   "execution_count": 37,
   "id": "c2ca1145",
   "metadata": {},
   "outputs": [
    {
     "data": {
      "text/plain": [
       "2646440"
      ]
     },
     "execution_count": 37,
     "metadata": {},
     "output_type": "execute_result"
    }
   ],
   "source": [
    "used_sessions"
   ]
  }
 ],
 "metadata": {
  "kernelspec": {
   "display_name": "Python 3 (ipykernel)",
   "language": "python",
   "name": "python3"
  },
  "language_info": {
   "codemirror_mode": {
    "name": "ipython",
    "version": 3
   },
   "file_extension": ".py",
   "mimetype": "text/x-python",
   "name": "python",
   "nbconvert_exporter": "python",
   "pygments_lexer": "ipython3",
   "version": "3.7.4"
  }
 },
 "nbformat": 4,
 "nbformat_minor": 5
}
