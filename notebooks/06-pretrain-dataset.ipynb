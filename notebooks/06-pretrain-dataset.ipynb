{
 "cells": [
  {
   "cell_type": "code",
   "execution_count": 1,
   "metadata": {},
   "outputs": [
    {
     "name": "stderr",
     "output_type": "stream",
     "text": [
      "/usr/local/lib/python3.6/dist-packages/OpenSSL/crypto.py:8: CryptographyDeprecationWarning: Python 3.6 is no longer supported by the Python core team. Therefore, support for it is deprecated in cryptography and will be removed in a future release.\n",
      "  from cryptography import utils, x509\n"
     ]
    }
   ],
   "source": [
    "from core.imports import *\n",
    "import csv"
   ]
  },
  {
   "cell_type": "code",
   "execution_count": 2,
   "metadata": {},
   "outputs": [],
   "source": [
    "import utils"
   ]
  },
  {
   "cell_type": "code",
   "execution_count": 3,
   "metadata": {},
   "outputs": [],
   "source": [
    "path = fs.join(ETL_PATH, job_name, 'SIGIR-ecom-data-challenge/train')"
   ]
  },
  {
   "cell_type": "markdown",
   "metadata": {},
   "source": [
    "# Product embedding matrices + hash mapping"
   ]
  },
  {
   "cell_type": "markdown",
   "metadata": {},
   "source": [
    "# Category embedding as average description"
   ]
  },
  {
   "cell_type": "code",
   "execution_count": 4,
   "metadata": {},
   "outputs": [],
   "source": [
    "from utils import parse_vector\n",
    "\n",
    "cat_vecs = defaultdict(list)\n",
    "for prod_sku, prod in utils.sku_edb.items():\n",
    "    if not prod['description_vector']: continue\n",
    "    if not prod['category_hash']: continue\n",
    "        \n",
    "    cats = prod['category_hash'].split('/')\n",
    "    for i, c in enumerate(cats):\n",
    "        cat_vecs['/'.join(cats[:i+1])].append(parse_vector(prod['description_vector'], asarray=True))"
   ]
  },
  {
   "cell_type": "code",
   "execution_count": 5,
   "metadata": {},
   "outputs": [
    {
     "data": {
      "text/plain": [
       "[<matplotlib.lines.Line2D at 0x7dbc16ecf940>]"
      ]
     },
     "execution_count": 5,
     "metadata": {},
     "output_type": "execute_result"
    },
    {
     "data": {
      "image/png": "[encoded data removed]",
      "text/plain": [
       "<Figure size 432x288 with 1 Axes>"
      ]
     },
     "metadata": {
      "needs_background": "light"
     },
     "output_type": "display_data"
    }
   ],
   "source": [
    "x, y = map(np.asarray, zip(*sorted(Counter(map(len, cat_vecs.values())).items())))\n",
    "plt.semilogx(x, np.cumsum(y))"
   ]
  },
  {
   "cell_type": "code",
   "execution_count": 6,
   "metadata": {},
   "outputs": [],
   "source": [
    "from itertools import count\n",
    "\n",
    "pos2cat = []\n",
    "cat2vec = np.zeros((len(cat_vecs), 50))\n",
    "for i, (k, v) in enumerate(cat_vecs.items()):\n",
    "    v = np.mean(v, axis=0)\n",
    "    v /= np.linalg.norm(v)\n",
    "    pos2cat.append(k)\n",
    "    cat2vec[i] = v\n",
    "cat2pos = {c:i for i, c in enumerate(pos2cat)}\n",
    "pos2cat = np.asarray(pos2cat)"
   ]
  },
  {
   "cell_type": "code",
   "execution_count": 7,
   "metadata": {},
   "outputs": [
    {
     "data": {
      "text/plain": [
       "47"
      ]
     },
     "execution_count": 7,
     "metadata": {},
     "output_type": "execute_result"
    }
   ],
   "source": [
    "len([k for k, v in cat_vecs.items() if len(v) < 10])"
   ]
  },
  {
   "cell_type": "code",
   "execution_count": 8,
   "metadata": {},
   "outputs": [],
   "source": [
    "infreq_cats = [k for k, v in cat_vecs.items() if len(v) < 10]"
   ]
  },
  {
   "cell_type": "code",
   "execution_count": 9,
   "metadata": {},
   "outputs": [
    {
     "data": {
      "text/plain": [
       "('1764afa1f05ee0c655c2a48d9115ec00168d1a594f7f63ff6daca25ff569a3c4/85229bc745fa0b928fae43493f0e1b7880732410e3e6dc8422e15b2bf8383ee4/f799512e75c65fd48a6f5623fa0546ce00e4d0e491079973f10d578a8d98c150',\n",
       " 3)"
      ]
     },
     "execution_count": 9,
     "metadata": {},
     "output_type": "execute_result"
    }
   ],
   "source": [
    "from random import choice\n",
    "cat = choice(infreq_cats)\n",
    "cat, len(cat_vecs[cat])"
   ]
  },
  {
   "cell_type": "code",
   "execution_count": 10,
   "metadata": {},
   "outputs": [
    {
     "name": "stdout",
     "output_type": "stream",
     "text": [
      "1764afa1f05ee0c655c2a48d9115ec00168d1a594f7f63ff6daca25ff569a3c4\n",
      "\t 0.97  1764afa1f05ee0c655c2a48d9115ec00168d1a594f7f63ff6daca25ff569a3c4/2764e8b98f0d26d3607cd96aa4cacb90c1b91ef07f8634656b1aa1fa64f97123\n",
      "\t 0.93  1764afa1f05ee0c655c2a48d9115ec00168d1a594f7f63ff6daca25ff569a3c4/2764e8b98f0d26d3607cd96aa4cacb90c1b91ef07f8634656b1aa1fa64f97123/27852152ef9c8a94430ff6111a86d08f956081bba2ccb9b7ed7fee0a4f339cce\n",
      "\t 0.80  f799512e75c65fd48a6f5623fa0546ce00e4d0e491079973f10d578a8d98c150/4d1925a10e990c08d3aacb9c5ef751cdbc092a67c79545714595ef28d968b689/27852152ef9c8a94430ff6111a86d08f956081bba2ccb9b7ed7fee0a4f339cce\n",
      "\t 0.80  1764afa1f05ee0c655c2a48d9115ec00168d1a594f7f63ff6daca25ff569a3c4/2764e8b98f0d26d3607cd96aa4cacb90c1b91ef07f8634656b1aa1fa64f97123/34d653d365aef4ef8b0707e4ea6ba3a0e897b95ef3cb36149c9e9dc3ae4e47c2\n",
      "\t 0.69  f799512e75c65fd48a6f5623fa0546ce00e4d0e491079973f10d578a8d98c150/4d1925a10e990c08d3aacb9c5ef751cdbc092a67c79545714595ef28d968b689/fbad4ea48d194f4c8de6df71c2eb36082ec1dc2744440da852917855efa84f9e\n",
      "\t 0.67  f799512e75c65fd48a6f5623fa0546ce00e4d0e491079973f10d578a8d98c150\n",
      "\t 0.67  f799512e75c65fd48a6f5623fa0546ce00e4d0e491079973f10d578a8d98c150/4d1925a10e990c08d3aacb9c5ef751cdbc092a67c79545714595ef28d968b689\n",
      "\t 0.59  f799512e75c65fd48a6f5623fa0546ce00e4d0e491079973f10d578a8d98c150/4d1925a10e990c08d3aacb9c5ef751cdbc092a67c79545714595ef28d968b689/2552ee03333b8f34257e187c2e872f9741172cb93ddf07a27a67a627098c2fbf\n",
      "\t 0.59  06fa312761d4b39e2f649781514ac69a4c1505c221fc463426d38a2de1679683/285f066ea7608b0ef28f21b6cb7660b95edbc1ebe09c783d824fa8d67cf4ade2/fbad4ea48d194f4c8de6df71c2eb36082ec1dc2744440da852917855efa84f9e\n",
      "1764afa1f05ee0c655c2a48d9115ec00168d1a594f7f63ff6daca25ff569a3c4/85229bc745fa0b928fae43493f0e1b7880732410e3e6dc8422e15b2bf8383ee4\n",
      "\t 0.82  1764afa1f05ee0c655c2a48d9115ec00168d1a594f7f63ff6daca25ff569a3c4/85229bc745fa0b928fae43493f0e1b7880732410e3e6dc8422e15b2bf8383ee4/e1fa679aaabbe4a6401748efae18112513767c003283bc3f69aca78b46913c40\n",
      "\t 0.80  1764afa1f05ee0c655c2a48d9115ec00168d1a594f7f63ff6daca25ff569a3c4/85229bc745fa0b928fae43493f0e1b7880732410e3e6dc8422e15b2bf8383ee4/9b4483b3c88592b48ecefdfb117594e23457c9b3a155cf9239495aacb7692944\n",
      "\t 0.77  1764afa1f05ee0c655c2a48d9115ec00168d1a594f7f63ff6daca25ff569a3c4/85229bc745fa0b928fae43493f0e1b7880732410e3e6dc8422e15b2bf8383ee4/f799512e75c65fd48a6f5623fa0546ce00e4d0e491079973f10d578a8d98c150\n",
      "\t 0.69  0665a81d19c89281cc00e7f7d779ded2ed42c933838602c303f2364d8e6b7059/e1fa679aaabbe4a6401748efae18112513767c003283bc3f69aca78b46913c40/dc20b96c06e7fe6089f102a7a3ea60692159cddb1631733c1e581af2d985e67f\n",
      "\t 0.66  4bc233e6ff353e76261e50f68e9da93b653b7bd482bf1521c3b1bd6cf3a2a8f8/dc20b96c06e7fe6089f102a7a3ea60692159cddb1631733c1e581af2d985e67f\n",
      "\t 0.66  4bc233e6ff353e76261e50f68e9da93b653b7bd482bf1521c3b1bd6cf3a2a8f8\n",
      "\t 0.66  4bc233e6ff353e76261e50f68e9da93b653b7bd482bf1521c3b1bd6cf3a2a8f8/dc20b96c06e7fe6089f102a7a3ea60692159cddb1631733c1e581af2d985e67f/e1fa679aaabbe4a6401748efae18112513767c003283bc3f69aca78b46913c40\n",
      "\t 0.60  115a6a7017ee55752b8487c77dfde92b0d501d10a2e69c420d5d535205b27f81/4ca2d9f01be4fef81748ff4b5efcf1de7c1a1877fb5b40e439607d6400fa6401/230a069163d10d51da2dacc60936ca4dc2db0c9ed8c6ea324114fba2af15661a\n",
      "\t 0.60  0665a81d19c89281cc00e7f7d779ded2ed42c933838602c303f2364d8e6b7059/f549918f716c59de0018c6252a3d95db8ddf857c02399cc29d72613cf565d0dc/dc20b96c06e7fe6089f102a7a3ea60692159cddb1631733c1e581af2d985e67f\n",
      "1764afa1f05ee0c655c2a48d9115ec00168d1a594f7f63ff6daca25ff569a3c4/85229bc745fa0b928fae43493f0e1b7880732410e3e6dc8422e15b2bf8383ee4/f799512e75c65fd48a6f5623fa0546ce00e4d0e491079973f10d578a8d98c150\n",
      "\t 0.77  1764afa1f05ee0c655c2a48d9115ec00168d1a594f7f63ff6daca25ff569a3c4/85229bc745fa0b928fae43493f0e1b7880732410e3e6dc8422e15b2bf8383ee4\n",
      "\t 0.56  06fa312761d4b39e2f649781514ac69a4c1505c221fc463426d38a2de1679683/285f066ea7608b0ef28f21b6cb7660b95edbc1ebe09c783d824fa8d67cf4ade2/fbad4ea48d194f4c8de6df71c2eb36082ec1dc2744440da852917855efa84f9e\n",
      "\t 0.51  06fa312761d4b39e2f649781514ac69a4c1505c221fc463426d38a2de1679683/0e566c6d47aa4853858d8a965cc8ea5195fd23555364a4ac4f74074c5e6b7b87/7279e67dc98586a6003e64e56312b32c9ea54679af8f5ee61d5e35d24911bd49\n",
      "\t 0.49  06fa312761d4b39e2f649781514ac69a4c1505c221fc463426d38a2de1679683/1ae3458f98744956d24b35b736cf63505df00c6302973b61c6aa9ff2aa345004/e3447e7f87fba770a9b76becc824a63b77cea6b124575f30b73be589742fac70\n",
      "\t 0.47  06fa312761d4b39e2f649781514ac69a4c1505c221fc463426d38a2de1679683/1a70f92b5613ca0a334f45f072b80754c744e991de0cd8f08bc9ebeef599d6aa/115a6a7017ee55752b8487c77dfde92b0d501d10a2e69c420d5d535205b27f81\n",
      "\t 0.45  4bc233e6ff353e76261e50f68e9da93b653b7bd482bf1521c3b1bd6cf3a2a8f8/dc20b96c06e7fe6089f102a7a3ea60692159cddb1631733c1e581af2d985e67f/e1fa679aaabbe4a6401748efae18112513767c003283bc3f69aca78b46913c40\n",
      "\t 0.45  4bc233e6ff353e76261e50f68e9da93b653b7bd482bf1521c3b1bd6cf3a2a8f8\n",
      "\t 0.45  4bc233e6ff353e76261e50f68e9da93b653b7bd482bf1521c3b1bd6cf3a2a8f8/dc20b96c06e7fe6089f102a7a3ea60692159cddb1631733c1e581af2d985e67f\n",
      "\t 0.45  115a6a7017ee55752b8487c77dfde92b0d501d10a2e69c420d5d535205b27f81/4ca2d9f01be4fef81748ff4b5efcf1de7c1a1877fb5b40e439607d6400fa6401/230a069163d10d51da2dacc60936ca4dc2db0c9ed8c6ea324114fba2af15661a\n"
     ]
    }
   ],
   "source": [
    "cat = cat.split('/')\n",
    "for i, c in enumerate(cat):\n",
    "    subcat = '/'.join(cat[:i+1])\n",
    "    print(subcat) \n",
    "    sims = cat2vec[cat2pos[subcat]].dot(cat2vec.T)\n",
    "    sims_idxs = np.argsort(sims)[::-1]\n",
    "    for idx in sims_idxs[1:10]:\n",
    "        print('\\t {:.02f} '.format(sims[idx]),pos2cat[idx])"
   ]
  },
  {
   "cell_type": "code",
   "execution_count": 18,
   "metadata": {},
   "outputs": [
    {
     "data": {
      "text/plain": [
       "array(['1764afa1f05ee0c655c2a48d9115ec00168d1a594f7f63ff6daca25ff569a3c4/85229bc745fa0b928fae43493f0e1b7880732410e3e6dc8422e15b2bf8383ee4',\n",
       "       '06fa312761d4b39e2f649781514ac69a4c1505c221fc463426d38a2de1679683/285f066ea7608b0ef28f21b6cb7660b95edbc1ebe09c783d824fa8d67cf4ade2/fbad4ea48d194f4c8de6df71c2eb36082ec1dc2744440da852917855efa84f9e',\n",
       "       '06fa312761d4b39e2f649781514ac69a4c1505c221fc463426d38a2de1679683/0e566c6d47aa4853858d8a965cc8ea5195fd23555364a4ac4f74074c5e6b7b87/7279e67dc98586a6003e64e56312b32c9ea54679af8f5ee61d5e35d24911bd49',\n",
       "       '06fa312761d4b39e2f649781514ac69a4c1505c221fc463426d38a2de1679683/1ae3458f98744956d24b35b736cf63505df00c6302973b61c6aa9ff2aa345004/e3447e7f87fba770a9b76becc824a63b77cea6b124575f30b73be589742fac70',\n",
       "       '06fa312761d4b39e2f649781514ac69a4c1505c221fc463426d38a2de1679683/1a70f92b5613ca0a334f45f072b80754c744e991de0cd8f08bc9ebeef599d6aa/115a6a7017ee55752b8487c77dfde92b0d501d10a2e69c420d5d535205b27f81',\n",
       "       '4bc233e6ff353e76261e50f68e9da93b653b7bd482bf1521c3b1bd6cf3a2a8f8/dc20b96c06e7fe6089f102a7a3ea60692159cddb1631733c1e581af2d985e67f/e1fa679aaabbe4a6401748efae18112513767c003283bc3f69aca78b46913c40',\n",
       "       '4bc233e6ff353e76261e50f68e9da93b653b7bd482bf1521c3b1bd6cf3a2a8f8',\n",
       "       '4bc233e6ff353e76261e50f68e9da93b653b7bd482bf1521c3b1bd6cf3a2a8f8/dc20b96c06e7fe6089f102a7a3ea60692159cddb1631733c1e581af2d985e67f',\n",
       "       '115a6a7017ee55752b8487c77dfde92b0d501d10a2e69c420d5d535205b27f81/4ca2d9f01be4fef81748ff4b5efcf1de7c1a1877fb5b40e439607d6400fa6401/230a069163d10d51da2dacc60936ca4dc2db0c9ed8c6ea324114fba2af15661a'],\n",
       "      dtype='<U194')"
      ]
     },
     "execution_count": 18,
     "metadata": {},
     "output_type": "execute_result"
    }
   ],
   "source": [
    "pos2cat[np.argsort(cat2vec[cat2pos['/'.join(cat)]].dot(cat2vec.T))[::-1]][1:10]"
   ]
  },
  {
   "cell_type": "code",
   "execution_count": 19,
   "metadata": {},
   "outputs": [],
   "source": [
    "cat_vecs = {k: np.mean(v, axis=0).astype('float32') for k, v in cat_vecs.items()}"
   ]
  },
  {
   "cell_type": "code",
   "execution_count": 21,
   "metadata": {},
   "outputs": [],
   "source": [
    "with open(fs.join(path, 'cat_avg_desc_emb.pkl'), 'wb') as f:\n",
    "    pkl.dump(cat_vecs, f, 2)\n"
   ]
  },
  {
   "cell_type": "markdown",
   "metadata": {},
   "source": [
    "# Description & image embedding matrices"
   ]
  },
  {
   "cell_type": "code",
   "execution_count": 22,
   "metadata": {},
   "outputs": [],
   "source": [
    "reason = Counter()\n",
    "for prod_sku, prod in utils.sku_edb.items():\n",
    "    for k in 'description_vector', 'image_vector', 'price_bucket', 'category_hash':\n",
    "        reason[k] += not prod[k]\n"
   ]
  },
  {
   "cell_type": "code",
   "execution_count": 23,
   "metadata": {},
   "outputs": [
    {
     "data": {
      "text/plain": [
       "Counter({'description_vector': 34436,\n",
       "         'image_vector': 38016,\n",
       "         'price_bucket': 34348,\n",
       "         'category_hash': 34334})"
      ]
     },
     "execution_count": 23,
     "metadata": {},
     "output_type": "execute_result"
    }
   ],
   "source": [
    "reason"
   ]
  },
  {
   "cell_type": "code",
   "execution_count": 24,
   "metadata": {},
   "outputs": [],
   "source": [
    "from itertools import count\n",
    "c = count(1)\n",
    "sku_hash2int = defaultdict(lambda : next(c))\n",
    "\n",
    "desc_emb = []\n",
    "img_emb = []\n",
    "price = []\n",
    "cat_emb = []\n",
    "discarded = []\n",
    "for prod_sku, prod in utils.sku_edb.items():\n",
    "    if not prod['description_vector'] or not prod['price_bucket'] or not prod['category_hash']:\n",
    "#     if not prod['description_vector'] or not prod['image_vector'] or not prod['price_bucket'] or not prod['category_hash']:\n",
    "        discarded.append(prod)\n",
    "        continue\n",
    "        \n",
    "    sku_hash2int[prod_sku]\n",
    "    desc_emb.append(json.loads(prod['description_vector']))\n",
    "#     img_emb.append(json.loads(prod['image_vector']))\n",
    "    price.append([float(prod['price_bucket'])])\n",
    "    \n",
    "    cat_emb.append(cat_vecs[prod['category_hash']])\n",
    "    \n",
    "    # prod2vec\n",
    "#     try:\n",
    "#         cat_emb.append(w2v.wv.get_vector(prod['category_hash']).tolist())\n",
    "#     except KeyError:\n",
    "#         cat_emb.append(w2v.wv.get_vector('inf').tolist())\n",
    "\n",
    "sku_hash2int = dict(sku_hash2int)\n",
    "# pad\n",
    "desc_emb.insert(0, [0.] * len(desc_emb[0]))\n",
    "# img_emb.insert(0, [0.] * len(desc_emb[0])) \n",
    "cat_emb.insert(0, [0.] * len(cat_emb[0]))\n",
    "price.insert(0, [0.]) "
   ]
  },
  {
   "cell_type": "code",
   "execution_count": 25,
   "metadata": {},
   "outputs": [
    {
     "data": {
      "text/plain": [
       "34442"
      ]
     },
     "execution_count": 25,
     "metadata": {},
     "output_type": "execute_result"
    }
   ],
   "source": [
    "len(discarded)"
   ]
  },
  {
   "cell_type": "code",
   "execution_count": 26,
   "metadata": {},
   "outputs": [
    {
     "data": {
      "text/plain": [
       "[{'product_sku_hash': 'ec5318e0458fd9828943c03d8af4c292d4eb0b8ddceaf011b1dfcdb0ff76aca8',\n",
       "  'description_vector': '',\n",
       "  'category_hash': '',\n",
       "  'image_vector': '',\n",
       "  'price_bucket': ''},\n",
       " {'product_sku_hash': 'be0bd18304bc1910fee9a4ecf6578d680d5daccafdc20cda4d4450998bf75dc0',\n",
       "  'description_vector': '',\n",
       "  'category_hash': '',\n",
       "  'image_vector': '',\n",
       "  'price_bucket': ''},\n",
       " {'product_sku_hash': '942af7911878718ed0587eba714957e725f6dee36ec4aab3d62a1be4553088fe',\n",
       "  'description_vector': '',\n",
       "  'category_hash': '',\n",
       "  'image_vector': '',\n",
       "  'price_bucket': ''},\n",
       " {'product_sku_hash': '8d0cf8b104d8424dcc97dc5c8aa1fc435d5382e7826eccf8f02cd152b6a503a6',\n",
       "  'description_vector': '',\n",
       "  'category_hash': '',\n",
       "  'image_vector': '',\n",
       "  'price_bucket': ''},\n",
       " {'product_sku_hash': '22dce739b3ff085afef2184f0f820e64b5574af897332b9e4ca0cffe69132705',\n",
       "  'description_vector': '',\n",
       "  'category_hash': '',\n",
       "  'image_vector': '',\n",
       "  'price_bucket': ''},\n",
       " {'product_sku_hash': 'e93add970abd344bcd70f74b6f7928a2ca8c4311504ce534569c16ab741a3743',\n",
       "  'description_vector': '',\n",
       "  'category_hash': '',\n",
       "  'image_vector': '',\n",
       "  'price_bucket': ''},\n",
       " {'product_sku_hash': '85ceddc43b0486594495cce6344b729faac88c20521998da893d0efa3e4c60c3',\n",
       "  'description_vector': '',\n",
       "  'category_hash': '',\n",
       "  'image_vector': '',\n",
       "  'price_bucket': ''},\n",
       " {'product_sku_hash': 'f4e0c381ceba2c6514528eb21a2a6dacc7de3feb6f53050955f69f1fc96772f5',\n",
       "  'description_vector': '',\n",
       "  'category_hash': '',\n",
       "  'image_vector': '',\n",
       "  'price_bucket': ''},\n",
       " {'product_sku_hash': '9cea18b766a7606fe0b06e926b953b7b892f74a15e911aececc309db1a335771',\n",
       "  'description_vector': '',\n",
       "  'category_hash': '',\n",
       "  'image_vector': '',\n",
       "  'price_bucket': ''},\n",
       " {'product_sku_hash': 'cae702dd0988c42c941a8988fb7cfad480db8f6d1b7a75ada06e5c5845a9affe',\n",
       "  'description_vector': '',\n",
       "  'category_hash': '115a6a7017ee55752b8487c77dfde92b0d501d10a2e69c420d5d535205b27f81/984ecbf26bfdda5928adb40ac89c37d0b90bf80b08d0afbb565fdf692e22e2d8/a140250159ef8df5e64afa36973cefbb2b28e7b5fe0e40a3fd590238e49166da',\n",
       "  'image_vector': '[387.03457598819426, -151.71287357429748, 100.50005836867456, 116.97634319024465, 4.232207387702928, -62.126332563122574, 14.459225127116348, 95.21295720437143, -33.18117470281944, -3.11022897143937, 62.73741904204262, 26.965365741671267, 32.463238216968136, 12.795613506791652, -27.080345321028634, -87.24758435412006, 42.02674078335045, -82.95780305145264, 59.93046228427494, -48.83568964674248, -82.24059983000697, 29.889686813954157, -82.18552021674304, 16.013881479886088, 29.0926876088721, -17.632383706710456, 72.3534089169235, -40.739318225861616, 67.09600978228252, 10.5757256452056, 64.69446329252287, -40.86416854502909, 66.80842263812494, 4.923017685211375, -8.32770698566606, 38.711656316418754, 33.59190541875997, -39.79003009240311, -4.489110815484165, -11.578692005903086, 5.385017326320593, 53.3901060832524, -23.62978484326798, -46.97294721434776, 1.7125412675442617, -7.293462915851329, 66.005657954712, -8.339260812393734, 22.30041132441548, 5.287095510006637]',\n",
       "  'price_bucket': '9.0'}]"
      ]
     },
     "execution_count": 26,
     "metadata": {},
     "output_type": "execute_result"
    }
   ],
   "source": [
    "from random import sample\n",
    "sample(discarded, 10)"
   ]
  },
  {
   "cell_type": "code",
   "execution_count": 27,
   "metadata": {},
   "outputs": [
    {
     "data": {
      "text/plain": [
       "(31944, 0, 31945, 31945, 31945)"
      ]
     },
     "execution_count": 27,
     "metadata": {},
     "output_type": "execute_result"
    }
   ],
   "source": [
    "len(sku_hash2int), len(img_emb), len(desc_emb), len(price), len(cat_emb)"
   ]
  },
  {
   "cell_type": "code",
   "execution_count": 28,
   "metadata": {},
   "outputs": [],
   "source": [
    "l = list(islice(utils.sku_edb.items(), 100))"
   ]
  },
  {
   "cell_type": "code",
   "execution_count": 29,
   "metadata": {},
   "outputs": [],
   "source": [
    "sku_hash, sku_dict = l[-1]"
   ]
  },
  {
   "cell_type": "code",
   "execution_count": 30,
   "metadata": {},
   "outputs": [],
   "source": [
    "assert json.loads(sku_dict['description_vector']) == desc_emb[sku_hash2int[sku_hash]]"
   ]
  },
  {
   "cell_type": "code",
   "execution_count": 113,
   "metadata": {},
   "outputs": [],
   "source": [
    "with open(fs.join(path, 'sku_embeddings_avg_desc.pkl'), 'wb') as f:\n",
    "    pkl.dump(dict(sku_hash2int=sku_hash2int, img=img_emb, descr=desc_emb, price=price, cat=cat_emb), f, 2)"
   ]
  },
  {
   "cell_type": "code",
   "execution_count": 31,
   "metadata": {},
   "outputs": [
    {
     "data": {
      "text/plain": [
       "array([ True,  True,  True,  True,  True,  True,  True,  True,  True,\n",
       "        True,  True,  True,  True,  True,  True,  True,  True,  True,\n",
       "        True,  True,  True,  True,  True,  True,  True,  True,  True,\n",
       "        True,  True,  True,  True,  True,  True,  True,  True,  True,\n",
       "        True,  True,  True,  True,  True,  True,  True,  True,  True,\n",
       "        True,  True,  True,  True,  True])"
      ]
     },
     "execution_count": 31,
     "metadata": {},
     "output_type": "execute_result"
    }
   ],
   "source": [
    "cat_emb[sku_hash2int[sku_hash]] == cat_vecs[sku_dict['category_hash']]"
   ]
  },
  {
   "cell_type": "code",
   "execution_count": 32,
   "metadata": {},
   "outputs": [
    {
     "data": {
      "text/plain": [
       "'00622c8d57726f4c9cc09409ce2675ca402f362cd322f662d03a392c31778b39'"
      ]
     },
     "execution_count": 32,
     "metadata": {},
     "output_type": "execute_result"
    }
   ],
   "source": [
    "sku_hash"
   ]
  },
  {
   "cell_type": "markdown",
   "metadata": {},
   "source": [
    "# Encoding del pre-train data set"
   ]
  },
  {
   "cell_type": "code",
   "execution_count": 36,
   "metadata": {},
   "outputs": [],
   "source": [
    "with open(fs.join(path, 'sku_embeddings_avg_desc.pkl'), 'rb') as f:\n",
    "    d = pkl.load(f)\n",
    "\n",
    "sku_hash2int = d['sku_hash2int']"
   ]
  },
  {
   "cell_type": "code",
   "execution_count": 37,
   "metadata": {},
   "outputs": [],
   "source": [
    "from datetime import datetime\n",
    "split_date = datetime(2019, 3, 20)"
   ]
  },
  {
   "cell_type": "code",
   "execution_count": 39,
   "metadata": {},
   "outputs": [
    {
     "name": "stdout",
     "output_type": "stream",
     "text": [
      "2022-09-23 13:48:55 pid 30328 | starting to iterate, updating every 1 seconds\n",
      "2022-09-23 13:48:57 pid 30328 | 27410, speed: 18803.15 it/s, elapsed 1.46 seconds\n",
      "2022-09-23 13:48:58 pid 30328 | 46108, speed: 18699.31 it/s, elapsed 2.47 seconds\n",
      "2022-09-23 13:48:59 pid 30328 | 63920, speed: 18419.76 it/s, elapsed 3.47 seconds\n",
      "2022-09-23 13:49:00 pid 30328 | 80792, speed: 18073.31 it/s, elapsed 4.47 seconds\n",
      "2022-09-23 13:49:01 pid 30328 | 99538, speed: 18196.10 it/s, elapsed 5.47 seconds\n",
      "2022-09-23 13:49:02 pid 30328 | 115462, speed: 17791.68 it/s, elapsed 6.49 seconds\n",
      "2022-09-23 13:49:03 pid 30328 | 131157, speed: 17511.71 it/s, elapsed 7.49 seconds\n",
      "2022-09-23 13:49:04 pid 30328 | 145748, speed: 17159.87 it/s, elapsed 8.49 seconds\n",
      "2022-09-23 13:49:05 pid 30328 | 162900, speed: 17159.02 it/s, elapsed 9.49 seconds\n",
      "2022-09-23 13:49:05 pid 30328 | print interval is now 5s\n",
      "2022-09-23 13:49:10 pid 30328 | 257520, speed: 17767.89 it/s, elapsed 14.49 seconds\n",
      "2022-09-23 13:49:15 pid 30328 | 345337, speed: 17715.43 it/s, elapsed 19.49 seconds\n",
      "2022-09-23 13:49:20 pid 30328 | 432051, speed: 17638.14 it/s, elapsed 24.50 seconds\n",
      "2022-09-23 13:49:25 pid 30328 | 522742, speed: 17722.91 it/s, elapsed 29.50 seconds\n",
      "2022-09-23 13:49:25 pid 30328 | print interval is now 30s\n",
      "2022-09-23 13:49:55 pid 30328 | 1056044, speed: 17750.05 it/s, elapsed 59.50 seconds\n",
      "2022-09-23 13:50:25 pid 30328 | 1566975, speed: 17509.01 it/s, elapsed 1.49 minutes\n",
      "2022-09-23 13:50:55 pid 30328 | 2125869, speed: 17790.39 it/s, elapsed 2 minutes\n",
      "2022-09-23 13:51:25 pid 30328 | 2695336, speed: 18029.56 it/s, elapsed 2.49 minutes\n",
      "2022-09-23 13:51:55 pid 30328 | 3260987, speed: 18167.53 it/s, elapsed 3 minutes\n",
      "2022-09-23 13:52:10 pid 30328 | 3559352, speed: 18267.74 it/s, elapsed 3.25 minutes\n",
      "2022-09-23 13:52:10 pid 30328 | finished . Total time: 3.25 minutes\n"
     ]
    }
   ],
   "source": [
    "from core.serialization import JlWriter\n",
    "\n",
    "tr_writer = JlWriter(fs.join(path, 'tr_encoded_data_v2.jl'))\n",
    "te_writer = JlWriter(fs.join(path, 'te_encoded_data_v2.jl'))\n",
    "for sess in progress(utils.iter_split(utils.iter_browsed(enrich=False), split_by=['add', 'purchase'], allowed_prod_acts=['detail', 'add', 'purchase'])):\n",
    "    sess = [\n",
    "        e\n",
    "        for e in sess \n",
    "        if e['product_sku_hash'] in sku_hash2int\n",
    "    ]\n",
    "    if len(sess) < 2: continue\n",
    "        \n",
    "    # Si la sesion toca el test set, es parte del test set\n",
    "    # Las sesiones de train, empiezan y terminan en train\n",
    "    if datetime.fromtimestamp(sess[-1]['server_timestamp_epoch_ms'] / 1000) >= split_date:\n",
    "        writer = te_writer\n",
    "    else:\n",
    "        writer = tr_writer\n",
    "        \n",
    "    sess = [\n",
    "        dict(sku_id=sku_hash2int[e['product_sku_hash']], product_action=e['product_action']) \n",
    "        for e in sess \n",
    "    ]\n",
    "\n",
    "    writer.write_doc(sess)\n",
    "    \n",
    "tr_writer.finish()\n",
    "te_writer.finish()"
   ]
  },
  {
   "cell_type": "markdown",
   "metadata": {},
   "source": [
    "**TODO** comparar la distribucion de longitudes con las sesiones de meli"
   ]
  },
  {
   "cell_type": "code",
   "execution_count": 41,
   "metadata": {},
   "outputs": [],
   "source": [
    "data = list(iter_jl(fs.join(path, 'tr_encoded_data_v2.jl')))"
   ]
  },
  {
   "cell_type": "code",
   "execution_count": 42,
   "metadata": {},
   "outputs": [
    {
     "data": {
      "text/plain": [
       "(array([1033529.,  207730.,   70010.,   24249.,   16730.,    8902.,\n",
       "           3851.,    3321.,    1895.,    1270.]),\n",
       " array([ 2. ,  5.7,  9.4, 13.1, 16.8, 20.5, 24.2, 27.9, 31.6, 35.3, 39. ]),\n",
       " <BarContainer object of 10 artists>)"
      ]
     },
     "execution_count": 42,
     "metadata": {},
     "output_type": "execute_result"
    },
    {
     "data": {
      "image/png": "[encoded data removed]",
      "text/plain": [
       "<Figure size 432x288 with 1 Axes>"
      ]
     },
     "metadata": {
      "needs_background": "light"
     },
     "output_type": "display_data"
    }
   ],
   "source": [
    "plt.hist([e for e in list(map(len, data)) if e < 40])"
   ]
  },
  {
   "cell_type": "markdown",
   "metadata": {},
   "source": [
    "### Category prod2vec ?"
   ]
  },
  {
   "cell_type": "code",
   "execution_count": 1,
   "metadata": {},
   "outputs": [],
   "source": [
    "sentences = []\n",
    "for sess in progress(utils.iter_split(utils.iter_browsed(), split_by='purchase', allowed_prod_acts=['detail', 'purchase'])):\n",
    "    categories = [e['prod']['category_hash'] for e in sess if e['prod']['category_hash']]\n",
    "    sentences.append(categories)\n"
   ]
  },
  {
   "cell_type": "code",
   "execution_count": 276,
   "metadata": {},
   "outputs": [
    {
     "data": {
      "text/plain": [
       "['06fa9683/285fade2/7279bd49',\n",
       " '06fa9683/285fade2/7279bd49',\n",
       " '06fa9683/285fade2/7279bd49',\n",
       " '06fa9683/49d8b2ab/7279bd49',\n",
       " '06fa9683/49d8b2ab/7279bd49',\n",
       " '06fa9683/49d8b2ab/7279bd49',\n",
       " '06fa9683/49d8b2ab/7279bd49',\n",
       " '06fa9683/49d8b2ab/7279bd49',\n",
       " '06fa9683/49d8b2ab/7279bd49',\n",
       " '06fa9683/49d8b2ab/7279bd49',\n",
       " '06fa9683/49d8b2ab/7279bd49',\n",
       " '06fa9683/49d8b2ab/7279bd49',\n",
       " '06fa9683/49d8b2ab/7279bd49',\n",
       " '06fa9683/49d8b2ab/7279bd49',\n",
       " '06fa9683/49d8b2ab/7279bd49',\n",
       " '06fa9683/285fade2/7279bd49',\n",
       " '06fa9683/49d8b2ab/7279bd49',\n",
       " '06fa9683/49d8b2ab/7279bd49',\n",
       " '06fa9683/49d8b2ab/7279bd49']"
      ]
     },
     "execution_count": 276,
     "metadata": {},
     "output_type": "execute_result"
    }
   ],
   "source": [
    "['/'.join([utils.summarize_hash(h) for h in c.split('/')]) for c in sentences[1]]"
   ]
  },
  {
   "cell_type": "code",
   "execution_count": 72,
   "metadata": {},
   "outputs": [],
   "source": [
    "from itertools import chain\n",
    "cat_distr = Counter(chain(*sentences))"
   ]
  },
  {
   "cell_type": "code",
   "execution_count": 73,
   "metadata": {},
   "outputs": [
    {
     "data": {
      "image/png": "[encoded data removed]",
      "text/plain": [
       "<Figure size 432x288 with 1 Axes>"
      ]
     },
     "metadata": {
      "needs_background": "light"
     },
     "output_type": "display_data"
    }
   ],
   "source": [
    "plt.hist(list(map(np.log10, cat_distr.values())))\n",
    "plt.xticks(range(1, 7), [f'$10^{i}$' for i in range(1, 7)]);"
   ]
  },
  {
   "cell_type": "code",
   "execution_count": 74,
   "metadata": {},
   "outputs": [
    {
     "data": {
      "text/plain": [
       "151"
      ]
     },
     "execution_count": 74,
     "metadata": {},
     "output_type": "execute_result"
    }
   ],
   "source": [
    "len([v for k, v in cat_distr.items() if v > 100])"
   ]
  },
  {
   "cell_type": "code",
   "execution_count": 75,
   "metadata": {},
   "outputs": [],
   "source": [
    "post_processed_sentences = [[c if cat_distr[c] > 100 else 'inf' for c in s] for s in sentences]"
   ]
  },
  {
   "cell_type": "code",
   "execution_count": 76,
   "metadata": {},
   "outputs": [],
   "source": [
    "from gensim.models import Word2Vec\n",
    "w2v = Word2Vec(post_processed_sentences, size=30, )"
   ]
  },
  {
   "cell_type": "code",
   "execution_count": 90,
   "metadata": {},
   "outputs": [
    {
     "data": {
      "text/plain": [
       "'06fa9683/f81a0eb6/7279bd49'"
      ]
     },
     "execution_count": 90,
     "metadata": {},
     "output_type": "execute_result"
    }
   ],
   "source": [
    "from random import choice\n",
    "\n",
    "categ = choice(list(w2v.wv.vocab.keys()))\n",
    "'/'.join(utils.summarize_hash(h) for h in categ.split('/'))"
   ]
  },
  {
   "cell_type": "code",
   "execution_count": 91,
   "metadata": {},
   "outputs": [
    {
     "data": {
      "text/plain": [
       "[('06fa9683/f81a0eb6/f799c150', 0.6273624300956726),\n",
       " ('06fa9683/f81a0eb6/ff3bf3a9', 0.5973688364028931),\n",
       " ('06fa9683/f81a0eb6/284970f6', 0.5907426476478577),\n",
       " ('06fa9683/f81a0eb6/c9074b1d', 0.5876540541648865),\n",
       " ('06fa9683/48c09d13/f799c150', 0.5837746858596802),\n",
       " ('06fa9683/f81a0eb6', 0.5445898771286011),\n",
       " ('06fa9683/6fa99dfd/dd613d35', 0.5247635245323181),\n",
       " ('f799c150/4d19b689/25522fbf', 0.5242652297019958),\n",
       " ('06fa9683/48c09d13/ff3bf3a9', 0.5147247910499573),\n",
       " ('1764a3c4/27647123/34d647c2', 0.5138662457466125)]"
      ]
     },
     "execution_count": 91,
     "metadata": {},
     "output_type": "execute_result"
    }
   ],
   "source": [
    "[('/'.join(utils.summarize_hash(h) for h in c.split('/')), v) for c, v in w2v.wv.most_similar(categ)]"
   ]
  },
  {
   "cell_type": "markdown",
   "metadata": {},
   "source": [
    "**makes sense to represent categories**"
   ]
  }
 ],
 "metadata": {
  "kernelspec": {
   "display_name": "Python 3",
   "language": "python",
   "name": "python3"
  },
  "language_info": {
   "codemirror_mode": {
    "name": "ipython",
    "version": 3
   },
   "file_extension": ".py",
   "mimetype": "text/x-python",
   "name": "python",
   "nbconvert_exporter": "python",
   "pygments_lexer": "ipython3",
   "version": "3.6.9"
  }
 },
 "nbformat": 4,
 "nbformat_minor": 4
}
