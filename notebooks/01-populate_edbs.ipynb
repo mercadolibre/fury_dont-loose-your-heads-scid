{
 "cells": [
  {
   "cell_type": "code",
   "execution_count": 1,
   "metadata": {},
   "outputs": [
    {
     "name": "stderr",
     "output_type": "stream",
     "text": [
      "/usr/local/lib/python3.6/dist-packages/OpenSSL/crypto.py:8: CryptographyDeprecationWarning: Python 3.6 is no longer supported by the Python core team. Therefore, support for it is deprecated in cryptography and will be removed in a future release.\n",
      "  from cryptography import utils, x509\n"
     ]
    }
   ],
   "source": [
    "from core.imports import *"
   ]
  },
  {
   "cell_type": "code",
   "execution_count": 2,
   "metadata": {},
   "outputs": [],
   "source": [
    "path = fs.join(ETL_PATH, job_name, 'SIGIR-ecom-data-challenge/train')"
   ]
  },
  {
   "cell_type": "markdown",
   "metadata": {},
   "source": [
    "# Populate EDBs"
   ]
  },
  {
   "cell_type": "code",
   "execution_count": 3,
   "metadata": {},
   "outputs": [],
   "source": [
    "import csv"
   ]
  },
  {
   "cell_type": "code",
   "execution_count": 12,
   "metadata": {},
   "outputs": [],
   "source": [
    "from core.embeddeddb2 import EmbeddedDB2\n",
    "\n",
    "def prepare(it, key_field):\n",
    "    for doc in it:\n",
    "        yield doc[key_field], doc"
   ]
  },
  {
   "cell_type": "code",
   "execution_count": 13,
   "metadata": {},
   "outputs": [
    {
     "name": "stdout",
     "output_type": "stream",
     "text": [
      "2022-08-12 19:40:40 pid 4855 | starting to iterate, updating every 1 seconds\n",
      "2022-08-12 19:40:41 pid 4855 | 27440, speed: 37664.13 it/s, elapsed 0.73 seconds\n",
      "2022-08-12 19:40:42 pid 4855 | 66386, speed: 38858.48 it/s, elapsed 1.71 seconds\n",
      "2022-08-12 19:40:42 pid 4855 | finished . Total time: 1.71 seconds\n"
     ]
    }
   ],
   "source": [
    "edb = EmbeddedDB2(fs.join(path, 'sku_to_content.edb'))\n",
    "it = csv.DictReader(open(fs.join(path, 'sku_to_content.csv')))\n",
    "edb.put_bulk(progress(prepare(it, 'product_sku_hash')))\n",
    "edb.close()"
   ]
  },
  {
   "cell_type": "code",
   "execution_count": null,
   "metadata": {},
   "outputs": [],
   "source": []
  },
  {
   "cell_type": "code",
   "execution_count": 10,
   "metadata": {},
   "outputs": [],
   "source": [
    "sessions = pd.read_csv(fs.join(path, 'browsing_train.csv'))\n",
    "sessions = sessions.sort_values('session_id_hash')\n",
    "sessions.to_csv(fs.join(path, 'sorted_browsing_train.csv'), index=False)"
   ]
  },
  {
   "cell_type": "code",
   "execution_count": 16,
   "metadata": {},
   "outputs": [],
   "source": [
    "from itertools import groupby\n",
    "\n",
    "def browsing_iter():\n",
    "    it = csv.DictReader(open(fs.join(path, 'sorted_browsing_train.csv')))\n",
    "    git = groupby(it, key=lambda x: x['session_id_hash'])\n",
    "    for session_id_hash, sess in git:\n",
    "        sess = list(sess)\n",
    "        for doc in sess:\n",
    "            doc['server_timestamp_epoch_ms'] = int(doc['server_timestamp_epoch_ms'])\n",
    "        sess.sort(key=lambda x: x['server_timestamp_epoch_ms'])\n",
    "        yield session_id_hash, sess\n",
    "   "
   ]
  },
  {
   "cell_type": "code",
   "execution_count": 17,
   "metadata": {},
   "outputs": [
    {
     "name": "stdout",
     "output_type": "stream",
     "text": [
      "2022-08-18 13:37:40 pid 4855 | starting to iterate, updating every 1 seconds\n",
      "2022-08-18 13:37:41 pid 4855 | 17608, speed: 15823.29 it/s, elapsed 1.11 seconds\n",
      "2022-08-18 13:37:42 pid 4855 | 32971, speed: 15604.14 it/s, elapsed 2.11 seconds\n",
      "2022-08-18 13:37:43 pid 4855 | 48383, speed: 15541.42 it/s, elapsed 3.11 seconds\n",
      "2022-08-18 13:37:44 pid 4855 | 63497, speed: 15436.77 it/s, elapsed 4.11 seconds\n",
      "2022-08-18 13:37:45 pid 4855 | 78232, speed: 15299.43 it/s, elapsed 5.11 seconds\n",
      "2022-08-18 13:37:46 pid 4855 | 93060, speed: 15222.08 it/s, elapsed 6.11 seconds\n",
      "2022-08-18 13:37:47 pid 4855 | 108022, speed: 15185.49 it/s, elapsed 7.11 seconds\n",
      "2022-08-18 13:37:48 pid 4855 | 123247, speed: 15190.34 it/s, elapsed 8.11 seconds\n",
      "2022-08-18 13:37:49 pid 4855 | 138540, speed: 15201.41 it/s, elapsed 9.11 seconds\n",
      "2022-08-18 13:37:50 pid 4855 | print interval is now 5s\n",
      "2022-08-18 13:37:54 pid 4855 | 213094, speed: 15098.45 it/s, elapsed 14.11 seconds\n",
      "2022-08-18 13:37:59 pid 4855 | 285181, speed: 14920.28 it/s, elapsed 19.11 seconds\n",
      "2022-08-18 13:38:04 pid 4855 | 353326, speed: 14652.53 it/s, elapsed 24.11 seconds\n",
      "2022-08-18 13:38:09 pid 4855 | 404971, speed: 13909.94 it/s, elapsed 29.11 seconds\n",
      "2022-08-18 13:38:10 pid 4855 | print interval is now 30s\n",
      "2022-08-18 13:38:39 pid 4855 | 805502, speed: 13626.29 it/s, elapsed 59.11 seconds\n",
      "2022-08-18 13:39:09 pid 4855 | 1192313, speed: 13379.64 it/s, elapsed 1.49 minutes\n",
      "2022-08-18 13:39:39 pid 4855 | 1513423, speed: 12705.65 it/s, elapsed 2 minutes\n",
      "2022-08-18 13:40:09 pid 4855 | 1913390, speed: 12831.71 it/s, elapsed 2.49 minutes\n",
      "2022-08-18 13:40:39 pid 4855 | 2319488, speed: 12949.77 it/s, elapsed 3 minutes\n",
      "2022-08-18 13:41:09 pid 4855 | 2723598, speed: 13024.45 it/s, elapsed 3.49 minutes\n",
      "2022-08-18 13:41:39 pid 4855 | 3047221, speed: 12743.79 it/s, elapsed 4 minutes\n",
      "2022-08-18 13:42:09 pid 4855 | 3347463, speed: 12438.82 it/s, elapsed 4.49 minutes\n",
      "2022-08-18 13:42:39 pid 4855 | 3664457, speed: 12251.02 it/s, elapsed 5 minutes\n",
      "2022-08-18 13:42:40 pid 4855 | print interval is now 60s\n",
      "2022-08-18 13:43:39 pid 4855 | 4361378, speed: 12144.81 it/s, elapsed 6 minutes\n",
      "2022-08-18 13:44:37 pid 4855 | 4934699, speed: 11835.86 it/s, elapsed 6.95 minutes\n",
      "2022-08-18 13:44:37 pid 4855 | finished . Total time: 6.95 minutes\n"
     ]
    }
   ],
   "source": [
    "                     \n",
    "edb = EmbeddedDB2(fs.join(path, 'browsing_train.edb'))\n",
    "edb.put_bulk(progress(browsing_iter()))\n",
    "edb.close()"
   ]
  }
 ],
 "metadata": {
  "kernelspec": {
   "display_name": "Python 3",
   "language": "python",
   "name": "python3"
  },
  "language_info": {
   "codemirror_mode": {
    "name": "ipython",
    "version": 3
   },
   "file_extension": ".py",
   "mimetype": "text/x-python",
   "name": "python",
   "nbconvert_exporter": "python",
   "pygments_lexer": "ipython3",
   "version": "3.6.9"
  }
 },
 "nbformat": 4,
 "nbformat_minor": 4
}
