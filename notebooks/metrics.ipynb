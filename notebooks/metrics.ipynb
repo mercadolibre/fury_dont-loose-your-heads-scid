{
 "cells": [
  {
   "cell_type": "code",
   "execution_count": 2,
   "metadata": {},
   "outputs": [
    {
     "name": "stdout",
     "output_type": "stream",
     "text": [
      "Already up to date.\n"
     ]
    }
   ],
   "source": [
    "!git pull"
   ]
  },
  {
   "cell_type": "code",
   "execution_count": 3,
   "metadata": {},
   "outputs": [],
   "source": [
    "%load_ext autoreload\n",
    "%autoreload 2"
   ]
  },
  {
   "cell_type": "code",
   "execution_count": 4,
   "metadata": {},
   "outputs": [
    {
     "name": "stderr",
     "output_type": "stream",
     "text": [
      "/usr/local/lib/python3.6/dist-packages/OpenSSL/crypto.py:8: CryptographyDeprecationWarning: Python 3.6 is no longer supported by the Python core team. Therefore, support for it is deprecated in cryptography and will be removed in a future release.\n",
      "  from cryptography import utils, x509\n"
     ]
    }
   ],
   "source": [
    "from core.imports import *"
   ]
  },
  {
   "cell_type": "code",
   "execution_count": 5,
   "metadata": {},
   "outputs": [],
   "source": [
    "import torch\n",
    "from torch import nn\n",
    "\n",
    "device = 'cuda'\n",
    "batch_size = 64\n",
    "\n",
    "from sku import AttributeEmbedding, FrozenEmbedder\n",
    "\n",
    "path = fs.join(ETL_PATH, job_name, 'SIGIR-ecom-data-challenge/train')\n",
    "fname = fs.join(path, 'sku_embeddings.pkl')"
   ]
  },
  {
   "cell_type": "code",
   "execution_count": 6,
   "metadata": {},
   "outputs": [],
   "source": [
    "from model import MultiTaskLanguageModel\n",
    "\n",
    "model = MultiTaskLanguageModel(fname, device, batch_size=batch_size, small_data=True)\n",
    "model;"
   ]
  },
  {
   "cell_type": "code",
   "execution_count": 23,
   "metadata": {},
   "outputs": [],
   "source": [
    "model = MultiTaskLanguageModel.load_from_checkpoint('logs/full_model_1/default/version_8/checkpoints/epoch=53-step=5669.ckpt')"
   ]
  },
  {
   "cell_type": "code",
   "execution_count": 7,
   "metadata": {},
   "outputs": [
    {
     "name": "stderr",
     "output_type": "stream",
     "text": [
      "GPU available: True, used: True\n",
      "TPU available: False, using: 0 TPU cores\n",
      "IPU available: False, using: 0 IPUs\n"
     ]
    },
    {
     "name": "stdout",
     "output_type": "stream",
     "text": [
      "logs/test/default/version_12\n"
     ]
    }
   ],
   "source": [
    "from pytorch_lightning.loggers import CSVLogger\n",
    "\n",
    "from core.models.mlp import LitProgressBar\n",
    "from pytorch_lightning import Trainer\n",
    "from pytorch_lightning.callbacks import TQDMProgressBar, EarlyStopping, ProgressBarBase\n",
    "\n",
    "logger = CSVLogger('logs/test')\n",
    "print(logger.log_dir)\n",
    "trainer = Trainer(\n",
    "    gpus=1,\n",
    "    max_epochs=10,\n",
    "    callbacks=[LitProgressBar()],#, EarlyStopping(monitor=\"val_loss\", mode=\"min\", patience=10)],\n",
    "    logger=logger,\n",
    "    enable_checkpointing=False,\n",
    "    log_every_n_steps=10,\n",
    "#     track_grad_norm=2,\n",
    "#     auto_scale_batch_size='binsearch',\n",
    "#     auto_lr_find=True\n",
    ")"
   ]
  },
  {
   "cell_type": "code",
   "execution_count": 9,
   "metadata": {},
   "outputs": [
    {
     "name": "stderr",
     "output_type": "stream",
     "text": [
      "LOCAL_RANK: 0 - CUDA_VISIBLE_DEVICES: [0]\n",
      "/usr/local/lib/python3.6/dist-packages/pytorch_lightning/trainer/optimizers.py:227: RuntimeWarning: Found unsupported keys in the optimizer configuration: {'interval', 'scheduler'}\n",
      "  rank_zero_warn(f\"Found unsupported keys in the optimizer configuration: {set(extra_keys)}\", RuntimeWarning)\n",
      "\n",
      "  | Name         | Type       | Params\n",
      "--------------------------------------------\n",
      "0 | item_adapter | Sequential | 13.6 K\n",
      "1 | rnn          | GRU        | 79.7 K\n",
      "2 | heads        | ModuleDict | 121 K \n",
      "--------------------------------------------\n",
      "214 K     Trainable params\n",
      "0         Non-trainable params\n",
      "214 K     Total params\n",
      "0.857     Total estimated model params size (MB)\n"
     ]
    },
    {
     "name": "stdout",
     "output_type": "stream",
     "text": [
      "2022-08-26 18:23:24 Starting validation\n",
      "2022-08-26 18:23:25 Validation time 1.14s\n",
      "2022-08-26 18:23:25 pid 31317 | starting to iterate train, updating every 1 seconds\n",
      "2022-08-26 18:23:27 Starting validation\n",
      "2022-08-26 18:23:28 Validation time 1.69s\n",
      "2022-08-26 18:23:28 pid 31317 | 2 of 10, 20.0% of train, speed: 1.73 s/it, elapsed 3.47 seconds, tr_loss: 8.5737, val_loss: 7.5912\n",
      "2022-08-26 18:23:30 Starting validation\n",
      "2022-08-26 18:23:32 Validation time 1.64s\n",
      "2022-08-26 18:23:32 pid 31317 | 3 of 10, 30.0% of train, speed: 2.29 s/it, elapsed 6.87 seconds, tr_loss: 5.5468, val_loss: 5.0896\n",
      "2022-08-26 18:23:34 Starting validation\n",
      "2022-08-26 18:23:35 Validation time 1.67s\n",
      "2022-08-26 18:23:35 pid 31317 | print interval is now 5s\n",
      "2022-08-26 18:23:35 pid 31317 | 4 of 10, 40.0% of train, speed: 2.62 s/it, elapsed 10.48 seconds, tr_loss: 4.4190, val_loss: 4.0301\n",
      "2022-08-26 18:23:37 Starting validation\n",
      "2022-08-26 18:23:39 Validation time 1.77s\n",
      "2022-08-26 18:23:41 Starting validation\n",
      "2022-08-26 18:23:42 Validation time 1.65s\n",
      "2022-08-26 18:23:42 pid 31317 | 6 of 10, 60.0% of train, speed: 2.91 s/it, elapsed 17.48 seconds, tr_loss: 3.0029, val_loss: 3.0237\n",
      "2022-08-26 18:23:44 Starting validation\n",
      "2022-08-26 18:23:46 Validation time 1.65s\n",
      "2022-08-26 18:23:48 Starting validation\n",
      "2022-08-26 18:23:49 Validation time 1.77s\n",
      "2022-08-26 18:23:49 pid 31317 | 8 of 10, 80.0% of train, speed: 3.06 s/it, elapsed 24.51 seconds, tr_loss: 2.4070, val_loss: 2.4906\n",
      "2022-08-26 18:23:51 Starting validation\n",
      "2022-08-26 18:23:53 Validation time 1.77s\n",
      "2022-08-26 18:23:55 Starting validation\n",
      "2022-08-26 18:23:57 Validation time 1.63s\n",
      "2022-08-26 18:23:57 pid 31317 | print interval is now 30s\n",
      "2022-08-26 18:23:57 pid 31317 | 10 of 10, 100.0% of train, speed: 3.16 s/it, elapsed 31.63 seconds, tr_loss: 1.7472, val_loss: 2.1731\n",
      "2022-08-26 18:23:58 Starting validation\n",
      "2022-08-26 18:24:00 Validation time 1.68s\n",
      "2022-08-26 18:24:00 pid 31317 | finished train. Total time: 35.34 seconds. tr_loss: 1.7444, val_loss: 2.0607\n"
     ]
    }
   ],
   "source": [
    "trainer.fit(model)"
   ]
  },
  {
   "cell_type": "code",
   "execution_count": null,
   "metadata": {},
   "outputs": [],
   "source": [
    "trainer."
   ]
  },
  {
   "cell_type": "code",
   "execution_count": 20,
   "metadata": {},
   "outputs": [],
   "source": [
    "dl = model.val_dataloader()"
   ]
  },
  {
   "cell_type": "code",
   "execution_count": 21,
   "metadata": {},
   "outputs": [
    {
     "ename": "ZeroDivisionError",
     "evalue": "division by zero",
     "output_type": "error",
     "traceback": [
      "\u001b[0;31m---------------------------------------------------------------------------\u001b[0m",
      "\u001b[0;31mZeroDivisionError\u001b[0m                         Traceback (most recent call last)",
      "\u001b[0;32m<ipython-input-21-576d86154fca>\u001b[0m in \u001b[0;36m<module>\u001b[0;34m\u001b[0m\n\u001b[0;32m----> 1\u001b[0;31m \u001b[0;32mfor\u001b[0m \u001b[0mlengths\u001b[0m\u001b[0;34m,\u001b[0m \u001b[0msessions\u001b[0m\u001b[0;34m,\u001b[0m \u001b[0mtasks\u001b[0m\u001b[0;34m,\u001b[0m \u001b[0mmasks\u001b[0m \u001b[0;32min\u001b[0m \u001b[0mdl\u001b[0m\u001b[0;34m:\u001b[0m \u001b[0;36m1\u001b[0m\u001b[0;34m/\u001b[0m\u001b[0;36m0\u001b[0m\u001b[0;34m\u001b[0m\u001b[0;34m\u001b[0m\u001b[0m\n\u001b[0m",
      "\u001b[0;31mZeroDivisionError\u001b[0m: division by zero"
     ]
    }
   ],
   "source": [
    "for lengths, sessions, tasks, masks in dl: 1/0\n"
   ]
  },
  {
   "cell_type": "code",
   "execution_count": null,
   "metadata": {},
   "outputs": [],
   "source": [
    "model."
   ]
  },
  {
   "cell_type": "code",
   "execution_count": 27,
   "metadata": {},
   "outputs": [
    {
     "data": {
      "text/plain": [
       "<experiments.SIGIR.sku.FrozenEmbedder at 0x7f914ca3ad68>"
      ]
     },
     "execution_count": 27,
     "metadata": {},
     "output_type": "execute_result"
    }
   ],
   "source": [
    "model.sku_embedder.to('cpu')"
   ]
  },
  {
   "cell_type": "code",
   "execution_count": 28,
   "metadata": {},
   "outputs": [],
   "source": [
    "output, head_activations = model(sessions.to('cpu'), lengths.to('cpu'))"
   ]
  },
  {
   "cell_type": "code",
   "execution_count": 60,
   "metadata": {},
   "outputs": [],
   "source": [
    "true_prices = model.sku_embedder.attr_embs.emb('price', tasks['next_sku'])[masks['next_sku']].to('cpu')#.numpy()"
   ]
  },
  {
   "cell_type": "code",
   "execution_count": 62,
   "metadata": {},
   "outputs": [
    {
     "data": {
      "text/plain": [
       "tensor([9., 8., 6.,  ..., 7., 7., 7.])"
      ]
     },
     "execution_count": 62,
     "metadata": {},
     "output_type": "execute_result"
    }
   ],
   "source": [
    "true_prices.view(-1)"
   ]
  },
  {
   "cell_type": "code",
   "execution_count": 41,
   "metadata": {},
   "outputs": [],
   "source": [
    "pred_prices = head_activations['next_sku_price'][masks['next_sku']].detach().cpu().numpy()"
   ]
  },
  {
   "cell_type": "code",
   "execution_count": 47,
   "metadata": {},
   "outputs": [],
   "source": [
    "d = defaultdict(list)\n",
    "for tp, pp in zip(true_prices, pred_prices):\n",
    "    d[float(tp)].append(float(pp))"
   ]
  },
  {
   "cell_type": "code",
   "execution_count": 58,
   "metadata": {},
   "outputs": [
    {
     "data": {
      "text/plain": [
       "21203"
      ]
     },
     "execution_count": 58,
     "metadata": {},
     "output_type": "execute_result"
    }
   ],
   "source": [
    "(pred_prices.squeeze().round() == true_prices.squeeze()).sum()"
   ]
  },
  {
   "cell_type": "code",
   "execution_count": 59,
   "metadata": {},
   "outputs": [
    {
     "data": {
      "text/plain": [
       "33112"
      ]
     },
     "execution_count": 59,
     "metadata": {},
     "output_type": "execute_result"
    }
   ],
   "source": [
    "len(pred_prices.squeeze())"
   ]
  },
  {
   "cell_type": "code",
   "execution_count": 52,
   "metadata": {},
   "outputs": [
    {
     "data": {
      "text/plain": [
       "<AxesSubplot:>"
      ]
     },
     "execution_count": 52,
     "metadata": {},
     "output_type": "execute_result"
    },
    {
     "data": {
      "image/png": "[encoded data removed]",
      "text/plain": [
       "<Figure size 432x288 with 1 Axes>"
      ]
     },
     "metadata": {
      "needs_background": "light"
     },
     "output_type": "display_data"
    }
   ],
   "source": [
    "import seaborn as sns\n",
    "sns.violinplot(data=[d[i] for i in range(1,11)])"
   ]
  },
  {
   "cell_type": "code",
   "execution_count": 474,
   "metadata": {},
   "outputs": [],
   "source": [
    "acum = index.prec_at_k_accumulator(20)"
   ]
  },
  {
   "cell_type": "code",
   "execution_count": 475,
   "metadata": {},
   "outputs": [],
   "source": [
    "pred = head_activations['purch_sku_descr'].detach()[masks['purch_sku']]\n",
    "target = attr_emb.emb('descr', tasks['purch_sku'])[masks['purch_sku']]\n",
    "\n",
    "acum.add_stats(pred, target)"
   ]
  },
  {
   "cell_type": "code",
   "execution_count": 483,
   "metadata": {},
   "outputs": [
    {
     "name": "stdout",
     "output_type": "stream",
     "text": [
      "remote: Enumerating objects: 13, done.\u001b[K\n",
      "remote: Counting objects: 100% (13/13), done.\u001b[K\n",
      "remote: Compressing objects: 100% (1/1), done.\u001b[K\n",
      "remote: Total 7 (delta 6), reused 7 (delta 6), pack-reused 0\u001b[K\n",
      "Unpacking objects: 100% (7/7), done.\n",
      "From https://github.com/mercadolibre/fury_user-navigation-research\n",
      "   f34b684..2a4918e  experiment-design -> origin/experiment-design\n",
      "Updating f34b684..2a4918e\n",
      "Fast-forward\n",
      " experiments/SIGIR/emb_classification_metrics.py | 12 \u001b[32m++++\u001b[m\u001b[31m-\u001b[m\n",
      " experiments/SIGIR/model.py                      | 59 \u001b[32m++++++++++++++++\u001b[m\u001b[31m---------\u001b[m\n",
      " experiments/SIGIR/sku.py                        | 11 \u001b[32m++++\u001b[m\u001b[31m-\u001b[m\n",
      " 3 files changed, 57 insertions(+), 25 deletions(-)\n"
     ]
    }
   ],
   "source": [
    "!git pull"
   ]
  },
  {
   "cell_type": "code",
   "execution_count": 476,
   "metadata": {},
   "outputs": [
    {
     "data": {
      "text/plain": [
       "array([0.17836257, 0.2251462 , 0.24853801, 0.26608187, 0.27777778,\n",
       "       0.30116959, 0.3128655 , 0.33625731, 0.33918129, 0.34210526,\n",
       "       0.35087719, 0.38304094, 0.4005848 , 0.40643275, 0.40935673,\n",
       "       0.42397661, 0.42982456, 0.43859649, 0.44152047, 0.44736842])"
      ]
     },
     "execution_count": 476,
     "metadata": {},
     "output_type": "execute_result"
    }
   ],
   "source": [
    "acum.prec"
   ]
  },
  {
   "cell_type": "code",
   "execution_count": 468,
   "metadata": {},
   "outputs": [
    {
     "data": {
      "text/plain": [
       "'cpu'"
      ]
     },
     "execution_count": 468,
     "metadata": {},
     "output_type": "execute_result"
    }
   ],
   "source": [
    "sessions.device.type"
   ]
  },
  {
   "cell_type": "code",
   "execution_count": 466,
   "metadata": {},
   "outputs": [],
   "source": [
    "purch_sku_descr_pred = head_activations['purch_sku_descr'].detach()\n",
    "purch_sku_descr_pred = purch_sku_descr_pred[masks['purch_sku']]\n",
    "\n",
    "purch_sku_descr_pred = purch_sku_descr_pred / torch.norm(purch_sku_descr_pred, p=2, dim=1)[:, None]\n",
    "\n",
    "target = attr_emb.emb('descr', tasks['purch_sku'])[masks['purch_sku']].cpu().numpy().copy()\n",
    "target_normed = target / np.linalg.norm(target, axis=1)[:, None]\n",
    "\n",
    "target_indices = torch.tensor(index.get_ids(target))\n",
    "\n",
    "top_indices = torch.topk(purch_sku_descr_pred @ index.vectors_normed.t(), k=20, dim=1).indices\n",
    "\n",
    "n = 0\n",
    "for i in range(20):\n",
    "    n += (top_indices[:, i] == target_indices).sum()\n",
    "n / len(target_indices)"
   ]
  },
  {
   "cell_type": "code",
   "execution_count": null,
   "metadata": {},
   "outputs": [],
   "source": []
  },
  {
   "cell_type": "code",
   "execution_count": null,
   "metadata": {},
   "outputs": [],
   "source": []
  },
  {
   "cell_type": "code",
   "execution_count": null,
   "metadata": {},
   "outputs": [],
   "source": []
  },
  {
   "cell_type": "code",
   "execution_count": null,
   "metadata": {},
   "outputs": [],
   "source": []
  },
  {
   "cell_type": "code",
   "execution_count": null,
   "metadata": {},
   "outputs": [],
   "source": []
  },
  {
   "cell_type": "code",
   "execution_count": null,
   "metadata": {},
   "outputs": [],
   "source": []
  },
  {
   "cell_type": "code",
   "execution_count": null,
   "metadata": {},
   "outputs": [],
   "source": []
  },
  {
   "cell_type": "code",
   "execution_count": null,
   "metadata": {},
   "outputs": [],
   "source": []
  },
  {
   "cell_type": "code",
   "execution_count": null,
   "metadata": {},
   "outputs": [],
   "source": []
  },
  {
   "cell_type": "code",
   "execution_count": null,
   "metadata": {},
   "outputs": [],
   "source": []
  },
  {
   "cell_type": "code",
   "execution_count": 294,
   "metadata": {},
   "outputs": [
    {
     "data": {
      "text/plain": [
       "torch.Size([64, 32])"
      ]
     },
     "execution_count": 294,
     "metadata": {},
     "output_type": "execute_result"
    }
   ],
   "source": [
    "sessions.shape"
   ]
  },
  {
   "cell_type": "code",
   "execution_count": 295,
   "metadata": {},
   "outputs": [
    {
     "data": {
      "text/plain": [
       "torch.Size([64, 32])"
      ]
     },
     "execution_count": 295,
     "metadata": {},
     "output_type": "execute_result"
    }
   ],
   "source": [
    "masks['purch_sku'].shape"
   ]
  },
  {
   "cell_type": "code",
   "execution_count": 296,
   "metadata": {},
   "outputs": [],
   "source": [
    "purch_sku_descr_pred = head_activations['purch_sku_descr'].detach().cpu().numpy()"
   ]
  },
  {
   "cell_type": "code",
   "execution_count": 297,
   "metadata": {},
   "outputs": [
    {
     "data": {
      "text/plain": [
       "(342, 50)"
      ]
     },
     "execution_count": 297,
     "metadata": {},
     "output_type": "execute_result"
    }
   ],
   "source": [
    "purch_sku_descr_pred[masks['purch_sku']].shape"
   ]
  },
  {
   "cell_type": "code",
   "execution_count": 330,
   "metadata": {},
   "outputs": [],
   "source": [
    "target = attr_emb.emb('descr', tasks['purch_sku'])[masks['purch_sku']].cpu().numpy()"
   ]
  },
  {
   "cell_type": "code",
   "execution_count": 240,
   "metadata": {},
   "outputs": [],
   "source": [
    "target_hashes = [hash(tuple(v)) for v in target]"
   ]
  },
  {
   "cell_type": "code",
   "execution_count": 256,
   "metadata": {},
   "outputs": [],
   "source": [
    "from emb_classification_metrics import EmbIndex"
   ]
  },
  {
   "cell_type": "code",
   "execution_count": 332,
   "metadata": {},
   "outputs": [
    {
     "name": "stderr",
     "output_type": "stream",
     "text": [
      "/usr/local/lib/python3.6/dist-packages/ipykernel_launcher.py:1: RuntimeWarning: invalid value encountered in true_divide\n",
      "  \"\"\"Entry point for launching an IPython kernel.\n"
     ]
    }
   ],
   "source": [
    "vectors = vectors / np.linalg.norm(vectors, axis=1)[:, None]"
   ]
  },
  {
   "cell_type": "code",
   "execution_count": 299,
   "metadata": {},
   "outputs": [],
   "source": [
    "target_indices = index.get_ids(target)"
   ]
  },
  {
   "cell_type": "code",
   "execution_count": 333,
   "metadata": {},
   "outputs": [],
   "source": [
    "pred_vectors = purch_sku_descr_pred[masks['purch_sku']]\n",
    "pred_vectors /= np.linalg.norm(pred_vectors, axis=1)[:, None]"
   ]
  },
  {
   "cell_type": "code",
   "execution_count": 336,
   "metadata": {},
   "outputs": [
    {
     "data": {
      "text/plain": [
       "array([-0.5054976 , -0.19458431,  0.06340858, -0.19694279,  0.03487722,\n",
       "       -0.15167119, -0.1231744 , -0.07722808,  0.04814281,  0.30670595,\n",
       "       -0.18957953,  0.16363296,  0.23888317, -0.05050316, -0.0910855 ,\n",
       "        0.21876937,  0.20062912,  0.30650556, -0.11816062, -0.11283329,\n",
       "       -0.0264249 , -0.03295353, -0.10729049, -0.03526357, -0.0458387 ,\n",
       "        0.04017804, -0.08433387,  0.02149273, -0.03765016,  0.10713293,\n",
       "       -0.0503892 ,  0.03685193,  0.04581779, -0.06049567,  0.03277427,\n",
       "       -0.07179491, -0.07643325, -0.07909881, -0.03657118,  0.15890421,\n",
       "        0.00702869, -0.12103593, -0.1511982 , -0.02509584, -0.17951506,\n",
       "       -0.05296809, -0.09596209,  0.0797986 , -0.00074934,  0.02421532],\n",
       "      dtype=float32)"
      ]
     },
     "execution_count": 336,
     "metadata": {},
     "output_type": "execute_result"
    }
   ],
   "source": [
    "vectors[target_indices[0]]"
   ]
  },
  {
   "cell_type": "code",
   "execution_count": 337,
   "metadata": {},
   "outputs": [
    {
     "data": {
      "text/plain": [
       "array([ 0.33859497, -0.0171467 , -0.11572851,  0.17898887,  0.1662615 ,\n",
       "       -0.08772368, -0.01147036,  0.04636509, -0.03977798,  0.07777951,\n",
       "       -0.03207391,  0.02470688,  0.06205402, -0.09806308,  0.01714426,\n",
       "       -0.06211503, -0.01247647,  0.0188639 , -0.04485874,  0.00781103,\n",
       "        0.03655205,  0.00767203, -0.0580302 , -0.04241365, -0.01442687,\n",
       "        0.0122307 ,  0.02041497,  0.07670196, -0.00692627, -0.01081231,\n",
       "       -0.00740658,  0.00859672, -0.07088016,  0.07298322,  0.01332477,\n",
       "       -0.03212296, -0.03955791, -0.01442399,  0.03188734,  0.04612496,\n",
       "       -0.01563622, -0.02007416, -0.01841969, -0.0103837 ,  0.0310263 ,\n",
       "        0.06213345,  0.03258689, -0.06724946, -0.01196772,  0.04158285],\n",
       "      dtype=float32)"
      ]
     },
     "execution_count": 337,
     "metadata": {},
     "output_type": "execute_result"
    }
   ],
   "source": [
    "target[0]"
   ]
  },
  {
   "cell_type": "code",
   "execution_count": 334,
   "metadata": {},
   "outputs": [
    {
     "data": {
      "text/plain": [
       "0.43140495"
      ]
     },
     "execution_count": 334,
     "metadata": {},
     "output_type": "execute_result"
    }
   ],
   "source": [
    "target[0].dot(pred_vectors[0].T) "
   ]
  },
  {
   "cell_type": "code",
   "execution_count": 328,
   "metadata": {},
   "outputs": [
    {
     "data": {
      "text/plain": [
       "array([ 7486, 31788,  6991, 29614,   723, 14496, 23689, 30745,  2723,\n",
       "       15950,   942, 15561,  8389, 14405, 18959,  6644, 27638,  2615,\n",
       "       17472, 31650])"
      ]
     },
     "execution_count": 328,
     "metadata": {},
     "output_type": "execute_result"
    }
   ],
   "source": [
    "sims = pred_vectors[0].dot(vectors[1:].T)\n",
    "np.argsort(sims)[::-1][:20]"
   ]
  },
  {
   "cell_type": "code",
   "execution_count": 323,
   "metadata": {},
   "outputs": [],
   "source": [
    "top_10 = np.argsort(pred_vectors.dot(vectors.T), axis=1)[:, :20]"
   ]
  },
  {
   "cell_type": "code",
   "execution_count": 327,
   "metadata": {},
   "outputs": [
    {
     "data": {
      "text/plain": [
       "796"
      ]
     },
     "execution_count": 327,
     "metadata": {},
     "output_type": "execute_result"
    }
   ],
   "source": [
    "target_indices[0]"
   ]
  },
  {
   "cell_type": "code",
   "execution_count": 326,
   "metadata": {},
   "outputs": [
    {
     "data": {
      "text/plain": [
       "array([31394, 29998, 25239,  1376,  8997, 25012, 27809, 28117,  8698,\n",
       "        6809, 17728,  8446, 12404,  8040, 25148, 14922, 16461, 12774,\n",
       "       15897, 23250])"
      ]
     },
     "execution_count": 326,
     "metadata": {},
     "output_type": "execute_result"
    }
   ],
   "source": [
    "top_10[0]"
   ]
  },
  {
   "cell_type": "code",
   "execution_count": 324,
   "metadata": {},
   "outputs": [],
   "source": [
    "n = 0\n",
    "for i in range(20):\n",
    "    n += (top_10[:, i] == target_indices).sum()"
   ]
  },
  {
   "cell_type": "code",
   "execution_count": 325,
   "metadata": {},
   "outputs": [
    {
     "data": {
      "text/plain": [
       "0"
      ]
     },
     "execution_count": 325,
     "metadata": {},
     "output_type": "execute_result"
    }
   ],
   "source": [
    "n"
   ]
  },
  {
   "cell_type": "code",
   "execution_count": 241,
   "metadata": {},
   "outputs": [],
   "source": [
    "num = 0\n",
    "for i, v in enumerate(purch_sku_descr_pred[masks['purch_sku']]):\n",
    "    num += target_hashes[i] in set([ids[i] for i in t.get_nns_by_vector(v, 10)])"
   ]
  },
  {
   "cell_type": "code",
   "execution_count": 242,
   "metadata": {},
   "outputs": [
    {
     "data": {
      "text/plain": [
       "0.3304093567251462"
      ]
     },
     "execution_count": 242,
     "metadata": {},
     "output_type": "execute_result"
    }
   ],
   "source": [
    "num / len(target_hashes)"
   ]
  },
  {
   "cell_type": "code",
   "execution_count": 249,
   "metadata": {},
   "outputs": [
    {
     "data": {
      "text/plain": [
       "-4181190870548101704"
      ]
     },
     "execution_count": 249,
     "metadata": {},
     "output_type": "execute_result"
    }
   ],
   "source": [
    "v = np.asarray(list(range(10)))\n",
    "hash(tuple(v))"
   ]
  },
  {
   "cell_type": "code",
   "execution_count": 254,
   "metadata": {},
   "outputs": [
    {
     "data": {
      "text/plain": [
       "True"
      ]
     },
     "execution_count": 254,
     "metadata": {},
     "output_type": "execute_result"
    }
   ],
   "source": [
    "isinstance(v, np.ndarray)"
   ]
  },
  {
   "cell_type": "code",
   "execution_count": 250,
   "metadata": {},
   "outputs": [
    {
     "data": {
      "text/plain": [
       "-4181190870548101704"
      ]
     },
     "execution_count": 250,
     "metadata": {},
     "output_type": "execute_result"
    }
   ],
   "source": [
    "v = np.asarray(list(range(10)))\n",
    "hash(tuple(v.tolist()))"
   ]
  },
  {
   "cell_type": "code",
   "execution_count": 188,
   "metadata": {},
   "outputs": [],
   "source": [
    "num = 0\n",
    "for target_hash, (hashes, dists) in zip(target_hashes, l):\n",
    "    num += (target_hash == hashes).sum()"
   ]
  },
  {
   "cell_type": "code",
   "execution_count": 189,
   "metadata": {},
   "outputs": [
    {
     "data": {
      "text/plain": [
       "1.7543859649122806"
      ]
     },
     "execution_count": 189,
     "metadata": {},
     "output_type": "execute_result"
    }
   ],
   "source": [
    "num / len(target_hashes)"
   ]
  },
  {
   "cell_type": "code",
   "execution_count": 145,
   "metadata": {},
   "outputs": [
    {
     "data": {
      "text/plain": [
       "-8649501758192308285"
      ]
     },
     "execution_count": 145,
     "metadata": {},
     "output_type": "execute_result"
    }
   ],
   "source": [
    "target_hash"
   ]
  },
  {
   "cell_type": "code",
   "execution_count": 146,
   "metadata": {},
   "outputs": [
    {
     "data": {
      "text/plain": [
       "array([ -623595581,   450146243,  1523888067,  -623595581, -1160466493,\n",
       "         450146243,  -623595581,   450146243,  1523888067,   450146243],\n",
       "      dtype=int32)"
      ]
     },
     "execution_count": 146,
     "metadata": {},
     "output_type": "execute_result"
    }
   ],
   "source": [
    "hashes"
   ]
  }
 ],
 "metadata": {
  "kernelspec": {
   "display_name": "Python 3",
   "language": "python",
   "name": "python3"
  },
  "language_info": {
   "codemirror_mode": {
    "name": "ipython",
    "version": 3
   },
   "file_extension": ".py",
   "mimetype": "text/x-python",
   "name": "python",
   "nbconvert_exporter": "python",
   "pygments_lexer": "ipython3",
   "version": "3.6.9"
  }
 },
 "nbformat": 4,
 "nbformat_minor": 4
}
