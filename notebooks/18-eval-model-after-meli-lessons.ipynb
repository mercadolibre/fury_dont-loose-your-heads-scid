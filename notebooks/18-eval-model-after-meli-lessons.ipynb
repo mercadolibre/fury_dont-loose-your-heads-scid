{
 "cells": [
  {
   "cell_type": "code",
   "execution_count": 1,
   "id": "93ee2dfc",
   "metadata": {},
   "outputs": [
    {
     "name": "stdout",
     "output_type": "stream",
     "text": [
      "remote: Enumerating objects: 9, done.\u001b[K\n",
      "remote: Counting objects: 100% (9/9), done.\u001b[K\n",
      "remote: Compressing objects: 100% (1/1), done.\u001b[K\n",
      "remote: Total 5 (delta 4), reused 5 (delta 4), pack-reused 0\u001b[K\n",
      "Unpacking objects: 100% (5/5), 560 bytes | 560.00 KiB/s, done.\n",
      "From https://github.com/mercadolibre/fury_user-navigation-research\n",
      "   95b929b..ea02e39  experiment-design -> origin/experiment-design\n",
      "Updating 95b929b..ea02e39\n",
      "Fast-forward\n",
      " core/sigir/search.py | 16 \u001b[32m++++++\u001b[m\u001b[31m----------\u001b[m\n",
      " 1 file changed, 6 insertions(+), 10 deletions(-)\n"
     ]
    }
   ],
   "source": [
    "!git pull"
   ]
  },
  {
   "cell_type": "code",
   "execution_count": 2,
   "id": "b7606685",
   "metadata": {},
   "outputs": [],
   "source": [
    "from core.imports import *"
   ]
  },
  {
   "cell_type": "code",
   "execution_count": 7,
   "id": "75aeb070",
   "metadata": {},
   "outputs": [],
   "source": [
    "from core.sigir import search\n",
    "from core.sigir import utils\n",
    "from sklearn.pipeline import make_union, make_pipeline\n",
    "\n",
    "from sklearn.metrics import roc_auc_score\n",
    "from sklearn.linear_model import LogisticRegression\n",
    "from sklearn.preprocessing import StandardScaler\n",
    "from core.sigir.descriptor import UserNavDescriptor, PoolingStrategy, CIDDescriptor\n",
    "from lightgbm import LGBMClassifier\n",
    "from core.sigir.model import MultiTaskLanguageModel, RollingAverageMultiTaskLanguageModel\n",
    "from core.sigir.settings import sigir_data_dir\n",
    "from core.sigir.grid_search import load_trials, build_runs_df\n",
    "from core.time_it import timeit\n",
    "from eval_top_models import load_descriptors, get_checkpoints_metrics, get_run_df"
   ]
  },
  {
   "cell_type": "code",
   "execution_count": 4,
   "id": "e9a28459",
   "metadata": {},
   "outputs": [
    {
     "name": "stdout",
     "output_type": "stream",
     "text": [
      "2022-11-23 17:32:23 pid 11950 | starting to iterate, updating every 1 seconds\n",
      "2022-11-23 17:32:24 pid 11950 | 968, speed: 669.43 it/s, elapsed 1.45 seconds\n",
      "2022-11-23 17:32:25 pid 11950 | 1561, speed: 637.76 it/s, elapsed 2.45 seconds\n",
      "2022-11-23 17:32:26 pid 11950 | 2347, speed: 680.69 it/s, elapsed 3.45 seconds\n",
      "2022-11-23 17:32:27 pid 11950 | 2872, speed: 645.54 it/s, elapsed 4.45 seconds\n",
      "2022-11-23 17:32:28 pid 11950 | 3638, speed: 667.54 it/s, elapsed 5.45 seconds\n",
      "2022-11-23 17:32:29 pid 11950 | 4494, speed: 696.75 it/s, elapsed 6.45 seconds\n",
      "2022-11-23 17:32:30 pid 11950 | 4975, speed: 667.76 it/s, elapsed 7.45 seconds\n",
      "2022-11-23 17:32:31 pid 11950 | 5732, speed: 678.32 it/s, elapsed 8.45 seconds\n",
      "2022-11-23 17:32:32 pid 11950 | 6527, speed: 690.65 it/s, elapsed 9.45 seconds\n",
      "2022-11-23 17:32:33 pid 11950 | print interval is now 5s\n",
      "2022-11-23 17:32:33 pid 11950 | 6948, speed: 661.28 it/s, elapsed 10.51 seconds\n",
      "2022-11-23 17:32:38 pid 11950 | 10243, speed: 660.54 it/s, elapsed 15.51 seconds\n",
      "2022-11-23 17:32:43 pid 11950 | 13462, speed: 656.44 it/s, elapsed 20.51 seconds\n",
      "2022-11-23 17:32:48 pid 11950 | 17491, speed: 685.68 it/s, elapsed 25.51 seconds\n",
      "2022-11-23 17:32:53 pid 11950 | print interval is now 30s\n",
      "2022-11-23 17:33:18 pid 11950 | 38787, speed: 698.74 it/s, elapsed 55.51 seconds\n",
      "2022-11-23 17:33:34 pid 11950 | 50000, speed: 703.26 it/s, elapsed 1.18 minutes\n",
      "2022-11-23 17:33:34 pid 11950 | finished . Total time: 1.18 minutes\n",
      "48293 1707\n"
     ]
    }
   ],
   "source": [
    "raw_X_train, raw_y_train, raw_X_test, raw_y_test = search.load_data(job_name, censored=False, limit=50_000)\n",
    "\n",
    "raw_y_train = np.asarray(raw_y_train)\n",
    "raw_y_test = np.asarray(raw_y_test)"
   ]
  },
  {
   "cell_type": "code",
   "execution_count": 52,
   "id": "db960556",
   "metadata": {},
   "outputs": [],
   "source": [
    "# def sample(X, y, pct=0.1):\n",
    "#     indices = np.nonzero(np.random.RandomState(42).random(len(X)) < pct)[0]\n",
    "#     return [X[i] for i in indices], [y[i] for i in indices]\n",
    "\n",
    "# raw_X_train, raw_y_train = sample(raw_X_train, raw_y_train, pct=0.5)\n",
    "# raw_X_test, raw_y_test = sample(raw_X_test, raw_y_test, pct=0.1)"
   ]
  },
  {
   "cell_type": "code",
   "execution_count": 47,
   "id": "d94d6dc1",
   "metadata": {},
   "outputs": [],
   "source": [
    "from core.time_it import timeit\n",
    "from sklearn.metrics import roc_auc_score, average_precision_score\n",
    "from lightgbm import LGBMClassifier\n",
    "\n",
    "def lgbm_factory():\n",
    "    return LGBMClassifier(\n",
    "        boosting_type='goss',\n",
    "        n_estimators=100,\n",
    "        learning_rate=0.01,\n",
    "        num_leaves=15,\n",
    "        silent=False, verbosity=0,\n",
    "        n_jobs=8, force_col_wise=True\n",
    "    )\n",
    "\n",
    "def build_pipe(desc, cid_desc):\n",
    "    return make_pipeline(\n",
    "        make_union(\n",
    "            utils.VectorProjector('candidate.description_vector'),\n",
    "            utils.VectorProjector('query_vector'),\n",
    "            desc,\n",
    "            cid_desc\n",
    "        ),\n",
    "        lgbm_factory()\n",
    "    )\n",
    "\n",
    "\n",
    "def eval_pipe(pipe, fit=True):\n",
    "    if fit:\n",
    "        with timeit('fit'):\n",
    "            pipe.fit(raw_X_train, raw_y_train)\n",
    "    \n",
    "    with timeit('eval'):\n",
    "        y_train_pred = pipe.predict_proba(raw_X_train)[:, 1]\n",
    "        roc_train = roc_auc_score(raw_y_train, y_train_pred)\n",
    "        ap_train = average_precision_score(raw_y_train, y_train_pred)\n",
    "\n",
    "        y_test_pred = pipe.predict_proba(raw_X_test)[:, 1]\n",
    "        roc_test = roc_auc_score(raw_y_test, y_test_pred)\n",
    "        ap_test = average_precision_score(raw_y_test, y_test_pred)\n",
    "        \n",
    "        \n",
    "    return {\n",
    "        'roc_train': roc_train, 'ap_train': ap_train, \n",
    "        'roc_test': roc_test, 'ap_test': ap_test,\n",
    "        'roc_train/seen': roc_auc_score(raw_y_train[was_seen_tr], y_train_pred[was_seen_tr]),\n",
    "        'roc_train/not_seen': roc_auc_score(raw_y_train[~was_seen_tr], y_train_pred[~was_seen_tr]),\n",
    "\n",
    "        'roc_test/seen': roc_auc_score(raw_y_test[was_seen_te], y_test_pred[was_seen_te]),\n",
    "        'roc_test/not_seen': roc_auc_score(raw_y_test[~was_seen_te], y_test_pred[~was_seen_te]),\n",
    "\n",
    "        'ap_train/seen': average_precision_score(raw_y_train[was_seen_tr], y_train_pred[was_seen_tr]),\n",
    "        'ap_train/not_seen': average_precision_score(raw_y_train[~was_seen_tr], y_train_pred[~was_seen_tr]),\n",
    "\n",
    "        'ap_test/seen': average_precision_score(raw_y_test[was_seen_te], y_test_pred[was_seen_te]),\n",
    "        'ap_test/not_seen': average_precision_score(raw_y_test[~was_seen_te], y_test_pred[~was_seen_te]),\n",
    "\n",
    "    }\n"
   ]
  },
  {
   "cell_type": "code",
   "execution_count": 46,
   "id": "d412bd0d",
   "metadata": {},
   "outputs": [],
   "source": [
    "def get_was_seen_mask(X):\n",
    "    was_seen = []\n",
    "    for row in X:\n",
    "        cand_sku = row['candidate']['product_sku_hash']\n",
    "        was_seen.append(cand_sku in [e['product_sku_hash'] for e in row['session']])\n",
    "    return np.asarray(was_seen)\n",
    "\n",
    "was_seen_tr = get_was_seen_mask(raw_X_train)\n",
    "was_seen_te = get_was_seen_mask(raw_X_test)"
   ]
  },
  {
   "cell_type": "code",
   "execution_count": 8,
   "id": "c88f49c5",
   "metadata": {},
   "outputs": [
    {
     "name": "stdout",
     "output_type": "stream",
     "text": [
      "36\n",
      "48\n"
     ]
    }
   ],
   "source": [
    "cat2vec_fname = fs.join(sigir_data_dir, 'train/cat_avg_desc_emb.pkl')\n",
    "gru_runs_df = build_runs_df(load_trials(fs.join(sigir_data_dir, 'trials/gru_smaller_sequences')))\n",
    "rolling_runs_df = build_runs_df(load_trials(fs.join(sigir_data_dir, 'trials/rolling_smaller_sequences')))"
   ]
  },
  {
   "cell_type": "code",
   "execution_count": 9,
   "id": "76482927",
   "metadata": {},
   "outputs": [
    {
     "name": "stdout",
     "output_type": "stream",
     "text": [
      "2022-11-23 17:35:02 pid 11950 | Starting to make emb dict\n",
      "2022-11-23 17:35:03 pid 11950 | Time for make emb dict is 0.60 seconds\n",
      "2022-11-23 17:35:03 pid 11950 | Starting to make emb dict\n",
      "2022-11-23 17:35:04 pid 11950 | Time for make emb dict is 0.72 seconds\n",
      "2022-11-23 17:35:04 pid 11950 | Starting to make emb dict\n",
      "2022-11-23 17:35:04 pid 11950 | Time for make emb dict is 0.59 seconds\n",
      "2022-11-23 17:35:04 pid 11950 | Starting to make emb dict\n",
      "2022-11-23 17:35:05 pid 11950 | Time for make emb dict is 0.74 seconds\n"
     ]
    }
   ],
   "source": [
    "gru_cid, gru_desc, gru_checkpoint_fname = load_descriptors(\n",
    "    cat2vec_fname, MultiTaskLanguageModel, gru_runs_df.iloc[0], PoolingStrategy.AVG, device='cuda'\n",
    ")"
   ]
  },
  {
   "cell_type": "code",
   "execution_count": 19,
   "id": "af75dae3",
   "metadata": {},
   "outputs": [
    {
     "name": "stdout",
     "output_type": "stream",
     "text": [
      "2022-11-23 17:46:29 pid 11950 | Starting to fit\n",
      "2022-11-23 17:49:36 pid 11950 | Time for fit is 3.11 minutes\n",
      "2022-11-23 17:49:36 pid 11950 | Starting to eval\n",
      "2022-11-23 17:51:51 pid 11950 | Time for eval is 2.26 minutes\n"
     ]
    }
   ],
   "source": [
    "gru_pipe = build_pipe(gru_desc, gru_cid)\n",
    "gru_metrics = eval_pipe(gru_pipe)"
   ]
  },
  {
   "cell_type": "code",
   "execution_count": 48,
   "id": "530d9d96",
   "metadata": {},
   "outputs": [
    {
     "name": "stdout",
     "output_type": "stream",
     "text": [
      "2022-11-24 09:55:00 pid 11950 | Starting to eval\n",
      "2022-11-24 09:57:17 pid 11950 | Time for eval is 2.27 minutes\n"
     ]
    }
   ],
   "source": [
    "gru_metrics = eval_pipe(gru_pipe, fit=False)"
   ]
  },
  {
   "cell_type": "code",
   "execution_count": 13,
   "id": "57756fd4",
   "metadata": {},
   "outputs": [
    {
     "name": "stdout",
     "output_type": "stream",
     "text": [
      "2022-11-23 17:40:30 pid 11950 | Starting to make emb dict\n",
      "2022-11-23 17:40:31 pid 11950 | Time for make emb dict is 0.54 seconds\n",
      "2022-11-23 17:40:31 pid 11950 | Starting to make emb dict\n",
      "2022-11-23 17:40:32 pid 11950 | Time for make emb dict is 0.74 seconds\n",
      "2022-11-23 17:40:32 pid 11950 | Starting to make emb dict\n",
      "2022-11-23 17:40:32 pid 11950 | Time for make emb dict is 0.55 seconds\n",
      "2022-11-23 17:40:32 pid 11950 | Starting to make emb dict\n",
      "2022-11-23 17:40:33 pid 11950 | Time for make emb dict is 0.74 seconds\n"
     ]
    }
   ],
   "source": [
    "roll_cid, roll_desc, roll_checkpoint_fname = load_descriptors(\n",
    "    cat2vec_fname, RollingAverageMultiTaskLanguageModel, rolling_runs_df.iloc[0], PoolingStrategy.LAST, device='cuda'\n",
    ")\n"
   ]
  },
  {
   "cell_type": "code",
   "execution_count": 20,
   "id": "2c851797",
   "metadata": {},
   "outputs": [
    {
     "name": "stdout",
     "output_type": "stream",
     "text": [
      "2022-11-23 17:51:51 pid 11950 | Starting to fit\n",
      "2022-11-23 17:54:18 pid 11950 | Time for fit is 2.45 minutes\n",
      "2022-11-23 17:54:18 pid 11950 | Starting to eval\n",
      "2022-11-23 17:56:12 pid 11950 | Time for eval is 1.90 minutes\n"
     ]
    }
   ],
   "source": [
    "roll_pipe = build_pipe(roll_desc, roll_cid)\n",
    "roll_metrics = eval_pipe(roll_pipe)"
   ]
  },
  {
   "cell_type": "code",
   "execution_count": 49,
   "id": "ae7f5023",
   "metadata": {},
   "outputs": [
    {
     "name": "stdout",
     "output_type": "stream",
     "text": [
      "2022-11-24 09:57:17 pid 11950 | Starting to eval\n",
      "2022-11-24 09:59:11 pid 11950 | Time for eval is 1.91 minutes\n"
     ]
    }
   ],
   "source": [
    "roll_metrics = eval_pipe(roll_pipe, fit=False)"
   ]
  },
  {
   "cell_type": "code",
   "execution_count": 50,
   "id": "4597ea67",
   "metadata": {},
   "outputs": [
    {
     "data": {
      "text/plain": [
       "{'roc_train': 0.7207063114075388,\n",
       " 'ap_train': 0.2800873848449208,\n",
       " 'roc_test': 0.7208374492900769,\n",
       " 'ap_test': 0.2847900529165191,\n",
       " 'roc_train/seen': 0.5909778588080526,\n",
       " 'roc_train/not_seen': 0.6543759466293227,\n",
       " 'roc_test/seen': 0.5684351978014365,\n",
       " 'roc_test/not_seen': 0.6476266528576042,\n",
       " 'ap_train/seen': 0.4672468971775094,\n",
       " 'ap_train/not_seen': 0.17656086928091816,\n",
       " 'ap_test/seen': 0.5084547861693316,\n",
       " 'ap_test/not_seen': 0.1699120721246824}"
      ]
     },
     "execution_count": 50,
     "metadata": {},
     "output_type": "execute_result"
    }
   ],
   "source": [
    "gru_metrics"
   ]
  },
  {
   "cell_type": "code",
   "execution_count": 51,
   "id": "ffe3d21b",
   "metadata": {},
   "outputs": [
    {
     "data": {
      "text/plain": [
       "{'roc_train': 0.7005447425629412,\n",
       " 'ap_train': 0.26306832989294693,\n",
       " 'roc_test': 0.6987019953041389,\n",
       " 'ap_test': 0.26732806709891715,\n",
       " 'roc_train/seen': 0.5701027737703075,\n",
       " 'roc_train/not_seen': 0.6414813755441462,\n",
       " 'roc_test/seen': 0.5212661081730214,\n",
       " 'roc_test/not_seen': 0.636881890111139,\n",
       " 'ap_train/seen': 0.44997854497327455,\n",
       " 'ap_train/not_seen': 0.1704961900333002,\n",
       " 'ap_test/seen': 0.4700568220191653,\n",
       " 'ap_test/not_seen': 0.17152099688792027}"
      ]
     },
     "execution_count": 51,
     "metadata": {},
     "output_type": "execute_result"
    }
   ],
   "source": [
    "roll_metrics"
   ]
  },
  {
   "cell_type": "code",
   "execution_count": null,
   "id": "bf881750",
   "metadata": {},
   "outputs": [],
   "source": [
    "0.568435/"
   ]
  },
  {
   "cell_type": "code",
   "execution_count": 52,
   "id": "d638fb35",
   "metadata": {},
   "outputs": [
    {
     "data": {
      "text/html": [
       "<div>\n",
       "<style scoped>\n",
       "    .dataframe tbody tr th:only-of-type {\n",
       "        vertical-align: middle;\n",
       "    }\n",
       "\n",
       "    .dataframe tbody tr th {\n",
       "        vertical-align: top;\n",
       "    }\n",
       "\n",
       "    .dataframe thead th {\n",
       "        text-align: right;\n",
       "    }\n",
       "</style>\n",
       "<table border=\"1\" class=\"dataframe\">\n",
       "  <thead>\n",
       "    <tr style=\"text-align: right;\">\n",
       "      <th></th>\n",
       "      <th>roll</th>\n",
       "      <th>gru</th>\n",
       "    </tr>\n",
       "  </thead>\n",
       "  <tbody>\n",
       "    <tr>\n",
       "      <th>roc_train</th>\n",
       "      <td>0.700545</td>\n",
       "      <td>0.720706</td>\n",
       "    </tr>\n",
       "    <tr>\n",
       "      <th>ap_train</th>\n",
       "      <td>0.263068</td>\n",
       "      <td>0.280087</td>\n",
       "    </tr>\n",
       "    <tr>\n",
       "      <th>roc_test</th>\n",
       "      <td>0.698702</td>\n",
       "      <td>0.720837</td>\n",
       "    </tr>\n",
       "    <tr>\n",
       "      <th>ap_test</th>\n",
       "      <td>0.267328</td>\n",
       "      <td>0.284790</td>\n",
       "    </tr>\n",
       "    <tr>\n",
       "      <th>roc_train/seen</th>\n",
       "      <td>0.570103</td>\n",
       "      <td>0.590978</td>\n",
       "    </tr>\n",
       "    <tr>\n",
       "      <th>roc_train/not_seen</th>\n",
       "      <td>0.641481</td>\n",
       "      <td>0.654376</td>\n",
       "    </tr>\n",
       "    <tr>\n",
       "      <th>roc_test/seen</th>\n",
       "      <td>0.521266</td>\n",
       "      <td>0.568435</td>\n",
       "    </tr>\n",
       "    <tr>\n",
       "      <th>roc_test/not_seen</th>\n",
       "      <td>0.636882</td>\n",
       "      <td>0.647627</td>\n",
       "    </tr>\n",
       "    <tr>\n",
       "      <th>ap_train/seen</th>\n",
       "      <td>0.449979</td>\n",
       "      <td>0.467247</td>\n",
       "    </tr>\n",
       "    <tr>\n",
       "      <th>ap_train/not_seen</th>\n",
       "      <td>0.170496</td>\n",
       "      <td>0.176561</td>\n",
       "    </tr>\n",
       "    <tr>\n",
       "      <th>ap_test/seen</th>\n",
       "      <td>0.470057</td>\n",
       "      <td>0.508455</td>\n",
       "    </tr>\n",
       "    <tr>\n",
       "      <th>ap_test/not_seen</th>\n",
       "      <td>0.171521</td>\n",
       "      <td>0.169912</td>\n",
       "    </tr>\n",
       "  </tbody>\n",
       "</table>\n",
       "</div>"
      ],
      "text/plain": [
       "                        roll       gru\n",
       "roc_train           0.700545  0.720706\n",
       "ap_train            0.263068  0.280087\n",
       "roc_test            0.698702  0.720837\n",
       "ap_test             0.267328  0.284790\n",
       "roc_train/seen      0.570103  0.590978\n",
       "roc_train/not_seen  0.641481  0.654376\n",
       "roc_test/seen       0.521266  0.568435\n",
       "roc_test/not_seen   0.636882  0.647627\n",
       "ap_train/seen       0.449979  0.467247\n",
       "ap_train/not_seen   0.170496  0.176561\n",
       "ap_test/seen        0.470057  0.508455\n",
       "ap_test/not_seen    0.171521  0.169912"
      ]
     },
     "execution_count": 52,
     "metadata": {},
     "output_type": "execute_result"
    }
   ],
   "source": [
    "pd.DataFrame({'roll': roll_metrics, 'gru': gru_metrics})"
   ]
  },
  {
   "cell_type": "code",
   "execution_count": 54,
   "id": "1158d45d",
   "metadata": {},
   "outputs": [
    {
     "data": {
      "text/plain": [
       "1.0094696077969774"
      ]
     },
     "execution_count": 54,
     "metadata": {},
     "output_type": "execute_result"
    }
   ],
   "source": [
    "0.171521/0.169912"
   ]
  }
 ],
 "metadata": {
  "kernelspec": {
   "display_name": "Python 3 (ipykernel)",
   "language": "python",
   "name": "python3"
  },
  "language_info": {
   "codemirror_mode": {
    "name": "ipython",
    "version": 3
   },
   "file_extension": ".py",
   "mimetype": "text/x-python",
   "name": "python",
   "nbconvert_exporter": "python",
   "pygments_lexer": "ipython3",
   "version": "3.7.4"
  }
 },
 "nbformat": 4,
 "nbformat_minor": 5
}
