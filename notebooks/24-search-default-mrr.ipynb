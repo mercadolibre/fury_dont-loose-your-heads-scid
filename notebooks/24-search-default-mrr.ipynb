{
 "cells": [
  {
   "cell_type": "code",
   "execution_count": 1,
   "id": "92038fb0",
   "metadata": {},
   "outputs": [],
   "source": [
    "from core.imports import *"
   ]
  },
  {
   "cell_type": "code",
   "execution_count": 2,
   "id": "ff9c8f9d",
   "metadata": {},
   "outputs": [],
   "source": [
    "from core.sigir import search"
   ]
  },
  {
   "cell_type": "code",
   "execution_count": 14,
   "id": "df2c11f4",
   "metadata": {},
   "outputs": [
    {
     "name": "stdout",
     "output_type": "stream",
     "text": [
      "2023-03-03 14:12:27 pid 2220 | starting to iterate, updating every 1 seconds\n",
      "2023-03-03 14:12:28 pid 2220 | 1185, speed: 807.06 it/s, elapsed 1.47 seconds\n",
      "2023-03-03 14:12:29 pid 2220 | 1954, speed: 791.60 it/s, elapsed 2.47 seconds\n",
      "2023-03-03 14:12:31 pid 2220 | 2080, speed: 520.61 it/s, elapsed 4 seconds\n",
      "2023-03-03 14:12:32 pid 2220 | 2863, speed: 572.95 it/s, elapsed 5 seconds\n",
      "2023-03-03 14:12:33 pid 2220 | 3633, speed: 605.69 it/s, elapsed 6 seconds\n",
      "2023-03-03 14:12:34 pid 2220 | 4475, speed: 639.36 it/s, elapsed 7 seconds\n",
      "2023-03-03 14:12:35 pid 2220 | 5286, speed: 660.57 it/s, elapsed 8 seconds\n",
      "2023-03-03 14:12:37 pid 2220 | print interval is now 5s\n",
      "2023-03-03 14:12:37 pid 2220 | 5922, speed: 560.12 it/s, elapsed 10.57 seconds\n",
      "2023-03-03 14:12:42 pid 2220 | 9803, speed: 629.44 it/s, elapsed 15.57 seconds\n",
      "2023-03-03 14:12:47 pid 2220 | 12094, speed: 587.81 it/s, elapsed 20.57 seconds\n",
      "2023-03-03 14:12:52 pid 2220 | 15891, speed: 621.31 it/s, elapsed 25.58 seconds\n",
      "2023-03-03 14:12:57 pid 2220 | print interval is now 30s\n",
      "2023-03-03 14:13:25 pid 2220 | 34442, speed: 597.36 it/s, elapsed 57.66 seconds\n",
      "2023-03-03 14:13:55 pid 2220 | 55275, speed: 630.57 it/s, elapsed 1.46 minutes\n",
      "2023-03-03 14:14:25 pid 2220 | 76058, speed: 646.42 it/s, elapsed 1.96 minutes\n",
      "2023-03-03 14:14:55 pid 2220 | 94547, speed: 640.29 it/s, elapsed 2.46 minutes\n",
      "2023-03-03 14:15:25 pid 2220 | 110635, speed: 622.72 it/s, elapsed 2.96 minutes\n",
      "2023-03-03 14:15:35 pid 2220 | 118464, speed: 630.86 it/s, elapsed 3.13 minutes\n",
      "2023-03-03 14:15:35 pid 2220 | finished . Total time: 3.13 minutes\n",
      "89092 21470\n"
     ]
    }
   ],
   "source": [
    "train, test = search.load_data(job_name, limit=None, censored=False, do_binarize=False)"
   ]
  },
  {
   "cell_type": "code",
   "execution_count": 20,
   "id": "efb25497",
   "metadata": {},
   "outputs": [],
   "source": [
    "from random import Random\n",
    "\n",
    "def mrr(data, shuffled=False):\n",
    "    rnd = Random(42)\n",
    "    inv_ranks = []\n",
    "    for doc in data:\n",
    "        clicks = doc['clicked_skus_hash']\n",
    "        prints = doc['product_skus_hash']\n",
    "        if shuffled:\n",
    "            prints = prints[:]\n",
    "            rnd.shuffle(prints)\n",
    "        indices = []\n",
    "        for c in clicks:\n",
    "            try:\n",
    "                indices.append(prints.index(c)+1)\n",
    "            except ValueError: pass\n",
    "\n",
    "        if indices:\n",
    "            inv_ranks.append(1/min(indices))\n",
    "        else:\n",
    "            inv_ranks.append(0)\n",
    "    return inv_ranks"
   ]
  },
  {
   "cell_type": "code",
   "execution_count": 21,
   "id": "b088c758",
   "metadata": {},
   "outputs": [
    {
     "name": "stdout",
     "output_type": "stream",
     "text": [
      "2023-03-03 14:18:26 pid 2220 | starting to iterate, updating every 1 seconds\n",
      "2023-03-03 14:18:27 pid 2220 | 85798 of 89092, 96.3%, speed: 162225.95 it/s, elapsed 0.53 seconds, eta 0.02 seconds\n",
      "2023-03-03 14:18:27 pid 2220 | 89092 of 89092, 100.0%, speed: 161853.07 it/s, elapsed 0.55 seconds, eta 0 seconds\n",
      "2023-03-03 14:18:27 pid 2220 | finished . Total time: 0.55 seconds\n"
     ]
    },
    {
     "data": {
      "text/plain": [
       "0.4573013112757593"
      ]
     },
     "execution_count": 21,
     "metadata": {},
     "output_type": "execute_result"
    }
   ],
   "source": [
    "train_irs = mrr(progress(train))\n",
    "np.mean(train_irs)"
   ]
  },
  {
   "cell_type": "code",
   "execution_count": 23,
   "id": "6b388c0a",
   "metadata": {},
   "outputs": [
    {
     "name": "stdout",
     "output_type": "stream",
     "text": [
      "2023-03-03 14:18:43 pid 2220 | starting to iterate, updating every 1 seconds\n",
      "2023-03-03 14:18:44 pid 2220 | 26539 of 89092, 29.8%, speed: 44282.93 it/s, elapsed 0.60 seconds, eta 1.41 seconds\n",
      "2023-03-03 14:18:45 pid 2220 | 73119 of 89092, 82.1%, speed: 45719.04 it/s, elapsed 1.60 seconds, eta 0.35 seconds\n",
      "2023-03-03 14:18:45 pid 2220 | 89092 of 89092, 100.0%, speed: 45735.16 it/s, elapsed 1.95 seconds, eta 0 seconds\n",
      "2023-03-03 14:18:45 pid 2220 | finished . Total time: 1.95 seconds\n"
     ]
    },
    {
     "data": {
      "text/plain": [
       "0.35114643283252317"
      ]
     },
     "execution_count": 23,
     "metadata": {},
     "output_type": "execute_result"
    }
   ],
   "source": [
    "train_irs = mrr(progress(train), shuffled=True)\n",
    "np.mean(train_irs)"
   ]
  },
  {
   "cell_type": "code",
   "execution_count": 22,
   "id": "7ceb5865",
   "metadata": {},
   "outputs": [
    {
     "name": "stdout",
     "output_type": "stream",
     "text": [
      "2023-03-03 14:18:31 pid 2220 | starting to iterate, updating every 1 seconds\n",
      "2023-03-03 14:18:32 pid 2220 | 21470 of 21470, 100.0%, speed: 167634.74 it/s, elapsed 0.13 seconds, eta 0 seconds\n",
      "2023-03-03 14:18:32 pid 2220 | finished . Total time: 0.13 seconds\n"
     ]
    },
    {
     "data": {
      "text/plain": [
       "0.47021486558899395"
      ]
     },
     "execution_count": 22,
     "metadata": {},
     "output_type": "execute_result"
    }
   ],
   "source": [
    "test_irs = mrr(progress(test))\n",
    "\n",
    "np.mean(test_irs)"
   ]
  },
  {
   "cell_type": "code",
   "execution_count": 24,
   "id": "d04e6d83",
   "metadata": {},
   "outputs": [
    {
     "name": "stdout",
     "output_type": "stream",
     "text": [
      "2023-03-03 14:18:53 pid 2220 | starting to iterate, updating every 1 seconds\n",
      "2023-03-03 14:18:53 pid 2220 | 21470 of 21470, 100.0%, speed: 45449.81 it/s, elapsed 0.47 seconds, eta 0 seconds\n",
      "2023-03-03 14:18:53 pid 2220 | finished . Total time: 0.47 seconds\n"
     ]
    },
    {
     "data": {
      "text/plain": [
       "0.3572612462286652"
      ]
     },
     "execution_count": 24,
     "metadata": {},
     "output_type": "execute_result"
    }
   ],
   "source": [
    "test_irs = mrr(progress(test), shuffled=True)\n",
    "\n",
    "np.mean(test_irs)"
   ]
  }
 ],
 "metadata": {
  "kernelspec": {
   "display_name": "Python 3 (ipykernel)",
   "language": "python",
   "name": "python3"
  },
  "language_info": {
   "codemirror_mode": {
    "name": "ipython",
    "version": 3
   },
   "file_extension": ".py",
   "mimetype": "text/x-python",
   "name": "python",
   "nbconvert_exporter": "python",
   "pygments_lexer": "ipython3",
   "version": "3.7.4"
  }
 },
 "nbformat": 4,
 "nbformat_minor": 5
}
